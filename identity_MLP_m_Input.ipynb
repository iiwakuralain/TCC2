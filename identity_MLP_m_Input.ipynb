{
  "nbformat": 4,
  "nbformat_minor": 0,
  "metadata": {
    "colab": {
      "name": "identity_MLP_m.Input.ipynb",
      "version": "0.3.2",
      "provenance": [],
      "collapsed_sections": [],
      "include_colab_link": true
    }
  },
  "cells": [
    {
      "cell_type": "markdown",
      "metadata": {
        "id": "view-in-github",
        "colab_type": "text"
      },
      "source": [
        "[View in Colaboratory](https://colab.research.google.com/github/iiwakuralain/TCC2/blob/master/identity_MLP_m_Input.ipynb)"
      ]
    },
    {
      "metadata": {
        "id": "8YKkRBB65iaf",
        "colab_type": "code",
        "colab": {}
      },
      "cell_type": "code",
      "source": [
        "import pandas as pd\n",
        "from sklearn import datasets, linear_model\n",
        "from sklearn.model_selection import train_test_split\n",
        "from matplotlib import pyplot as plt\n",
        "from sklearn.metrics import r2_score\n",
        "from sklearn.metrics import mean_squared_error"
      ],
      "execution_count": 0,
      "outputs": []
    },
    {
      "metadata": {
        "id": "8rgYQI4iDiM0",
        "colab_type": "code",
        "colab": {
          "base_uri": "https://localhost:8080/",
          "height": 118
        },
        "outputId": "3ee5b0f5-9d4b-433f-bbb3-887c95dea9c2"
      },
      "cell_type": "code",
      "source": [
        "!pip install -q xlrd\n",
        "!git clone https://github.com/iiwakuralain/TCC2"
      ],
      "execution_count": 1117,
      "outputs": [
        {
          "output_type": "stream",
          "text": [
            "Cloning into 'TCC2'...\n",
            "remote: Counting objects: 100, done.\u001b[K\n",
            "remote: Compressing objects: 100% (90/90), done.\u001b[K\n",
            "remote: Total 100 (delta 47), reused 31 (delta 9), pack-reused 0\u001b[K\n",
            "Receiving objects: 100% (100/100), 1.36 MiB | 22.44 MiB/s, done.\n",
            "Resolving deltas: 100% (47/47), done.\n"
          ],
          "name": "stdout"
        }
      ]
    },
    {
      "metadata": {
        "id": "W2Z935poDyda",
        "colab_type": "code",
        "colab": {
          "base_uri": "https://localhost:8080/",
          "height": 54
        },
        "outputId": "4a3176e2-48e8-4ae0-8df0-ff05a47d7e96"
      },
      "cell_type": "code",
      "source": [
        "cd TCC2"
      ],
      "execution_count": 1118,
      "outputs": [
        {
          "output_type": "stream",
          "text": [
            "/content/TCC2/TCC2/TCC2/TCC2/TCC2/TCC2/TCC2/TCC2/TCC2/TCC2/TCC2/TCC2/TCC2/TCC2/TCC2/TCC2/TCC2/TCC2/TCC2/TCC2/TCC2/TCC2/TCC2/TCC2/TCC2/TCC2/TCC2/TCC2/TCC2/TCC2/TCC2/TCC2/TCC2/TCC2/TCC2/TCC2/TCC2/TCC2/TCC2/TCC2/TCC2/TCC2/TCC2/TCC2/TCC2/TCC2/TCC2/TCC2/TCC2/TCC2/TCC2/TCC2/TCC2/TCC2/TCC2/TCC2/TCC2\n"
          ],
          "name": "stdout"
        }
      ]
    },
    {
      "metadata": {
        "id": "J_gWebIHDy1R",
        "colab_type": "code",
        "colab": {
          "base_uri": "https://localhost:8080/",
          "height": 67
        },
        "outputId": "0e1f1394-2d67-4c61-dadd-8bfe29d701e5"
      },
      "cell_type": "code",
      "source": [
        "ls"
      ],
      "execution_count": 1119,
      "outputs": [
        {
          "output_type": "stream",
          "text": [
            "db_ok.csv                   MLP_regressor_multi_input.ipynb\r\n",
            "identity_MLP_m_Input.ipynb  MLP_regressor_single_input.ipynb\r\n",
            "linear.ipynb\r\n"
          ],
          "name": "stdout"
        }
      ]
    },
    {
      "metadata": {
        "id": "TCrE2MuYED3Q",
        "colab_type": "code",
        "colab": {}
      },
      "cell_type": "code",
      "source": [
        "import pandas as pd\n",
        "df = pd.read_csv('db_ok.csv')"
      ],
      "execution_count": 0,
      "outputs": []
    },
    {
      "metadata": {
        "id": "wVWlq-8s5q7v",
        "colab_type": "code",
        "colab": {}
      },
      "cell_type": "code",
      "source": [
        "import os\n",
        "os.environ['TF_CPP_MIN_LOG_LEVEL'] = '3' "
      ],
      "execution_count": 0,
      "outputs": []
    },
    {
      "metadata": {
        "id": "VGnxdn7y7uyA",
        "colab_type": "code",
        "colab": {}
      },
      "cell_type": "code",
      "source": [
        "cidade = df.loc[(df['cidade'] == 1)]\n",
        "#cidade = df"
      ],
      "execution_count": 0,
      "outputs": []
    },
    {
      "metadata": {
        "id": "pIzqyWb_8BO3",
        "colab_type": "code",
        "colab": {
          "base_uri": "https://localhost:8080/",
          "height": 195
        },
        "outputId": "ec5416d8-4589-4c2d-ba8c-0546a109de6a"
      },
      "cell_type": "code",
      "source": [
        "cidade.head()"
      ],
      "execution_count": 1123,
      "outputs": [
        {
          "output_type": "execute_result",
          "data": {
            "text/html": [
              "<div>\n",
              "<style scoped>\n",
              "    .dataframe tbody tr th:only-of-type {\n",
              "        vertical-align: middle;\n",
              "    }\n",
              "\n",
              "    .dataframe tbody tr th {\n",
              "        vertical-align: top;\n",
              "    }\n",
              "\n",
              "    .dataframe thead th {\n",
              "        text-align: right;\n",
              "    }\n",
              "</style>\n",
              "<table border=\"1\" class=\"dataframe\">\n",
              "  <thead>\n",
              "    <tr style=\"text-align: right;\">\n",
              "      <th></th>\n",
              "      <th>cidade</th>\n",
              "      <th>m2Aprox</th>\n",
              "      <th>4mm</th>\n",
              "      <th>3mm</th>\n",
              "      <th>$4mm</th>\n",
              "      <th>$3mm</th>\n",
              "    </tr>\n",
              "  </thead>\n",
              "  <tbody>\n",
              "    <tr>\n",
              "      <th>0</th>\n",
              "      <td>1</td>\n",
              "      <td>58.652928</td>\n",
              "      <td>18054.0</td>\n",
              "      <td>15045.00000</td>\n",
              "      <td>297.782896</td>\n",
              "      <td>256.508935</td>\n",
              "    </tr>\n",
              "    <tr>\n",
              "      <th>1</th>\n",
              "      <td>1</td>\n",
              "      <td>148.766748</td>\n",
              "      <td>45000.0</td>\n",
              "      <td>38160.00000</td>\n",
              "      <td>297.782896</td>\n",
              "      <td>256.508935</td>\n",
              "    </tr>\n",
              "    <tr>\n",
              "      <th>2</th>\n",
              "      <td>1</td>\n",
              "      <td>17.855129</td>\n",
              "      <td>5000.0</td>\n",
              "      <td>4580.00000</td>\n",
              "      <td>297.782896</td>\n",
              "      <td>256.508935</td>\n",
              "    </tr>\n",
              "    <tr>\n",
              "      <th>3</th>\n",
              "      <td>1</td>\n",
              "      <td>120.552592</td>\n",
              "      <td>35898.5</td>\n",
              "      <td>30922.81693</td>\n",
              "      <td>297.782896</td>\n",
              "      <td>256.508935</td>\n",
              "    </tr>\n",
              "    <tr>\n",
              "      <th>4</th>\n",
              "      <td>1</td>\n",
              "      <td>14.619374</td>\n",
              "      <td>4375.0</td>\n",
              "      <td>3750.00000</td>\n",
              "      <td>297.782896</td>\n",
              "      <td>256.508935</td>\n",
              "    </tr>\n",
              "  </tbody>\n",
              "</table>\n",
              "</div>"
            ],
            "text/plain": [
              "   cidade     m2Aprox      4mm          3mm        $4mm        $3mm\n",
              "0       1   58.652928  18054.0  15045.00000  297.782896  256.508935\n",
              "1       1  148.766748  45000.0  38160.00000  297.782896  256.508935\n",
              "2       1   17.855129   5000.0   4580.00000  297.782896  256.508935\n",
              "3       1  120.552592  35898.5  30922.81693  297.782896  256.508935\n",
              "4       1   14.619374   4375.0   3750.00000  297.782896  256.508935"
            ]
          },
          "metadata": {
            "tags": []
          },
          "execution_count": 1123
        }
      ]
    },
    {
      "metadata": {
        "id": "u1_B8hLD8C9w",
        "colab_type": "code",
        "colab": {
          "base_uri": "https://localhost:8080/",
          "height": 34
        },
        "outputId": "bd07c0b2-e261-4c91-aaa8-cf21b655625b"
      },
      "cell_type": "code",
      "source": [
        "cidade.shape"
      ],
      "execution_count": 1124,
      "outputs": [
        {
          "output_type": "execute_result",
          "data": {
            "text/plain": [
              "(95, 6)"
            ]
          },
          "metadata": {
            "tags": []
          },
          "execution_count": 1124
        }
      ]
    },
    {
      "metadata": {
        "id": "7kEWB47VDg8L",
        "colab_type": "code",
        "colab": {
          "base_uri": "https://localhost:8080/",
          "height": 218
        },
        "outputId": "256580e1-65bb-42d8-a787-5b5b5179f089"
      },
      "cell_type": "code",
      "source": [
        "mydf = cidade.astype('int64')\n",
        "print(mydf.info()) # Overview of dataset"
      ],
      "execution_count": 1125,
      "outputs": [
        {
          "output_type": "stream",
          "text": [
            "<class 'pandas.core.frame.DataFrame'>\n",
            "Int64Index: 95 entries, 0 to 94\n",
            "Data columns (total 6 columns):\n",
            "cidade     95 non-null int64\n",
            "m2Aprox    95 non-null int64\n",
            "4mm        95 non-null int64\n",
            "3mm        95 non-null int64\n",
            "$4mm       95 non-null int64\n",
            "$3mm       95 non-null int64\n",
            "dtypes: int64(6)\n",
            "memory usage: 5.2 KB\n",
            "None\n"
          ],
          "name": "stdout"
        }
      ]
    },
    {
      "metadata": {
        "id": "pdW3apLUy_RX",
        "colab_type": "code",
        "colab": {
          "base_uri": "https://localhost:8080/",
          "height": 34
        },
        "outputId": "4d07bb0a-e2d1-4c95-940d-0df2cc50455e"
      },
      "cell_type": "code",
      "source": [
        "df_cidade = mydf.drop(['3mm'], axis=1)\n",
        "y = mydf['3mm']\n",
        "\n",
        "# create training and testing vars\n",
        "X_train, X_test, y_train, y_test = train_test_split(df_cidade, y, test_size=0.20)\n",
        "print(X_train.shape, y_train.shape)"
      ],
      "execution_count": 1126,
      "outputs": [
        {
          "output_type": "stream",
          "text": [
            "((76, 5), (76,))\n"
          ],
          "name": "stdout"
        }
      ]
    },
    {
      "metadata": {
        "id": "zMSxriQ8zNnF",
        "colab_type": "code",
        "colab": {}
      },
      "cell_type": "code",
      "source": [
        "from sklearn.neural_network import MLPRegressor"
      ],
      "execution_count": 0,
      "outputs": []
    },
    {
      "metadata": {
        "id": "CYJ_ou33Etev",
        "colab_type": "code",
        "colab": {}
      },
      "cell_type": "code",
      "source": [
        "clf = MLPRegressor(activation='identity',solver='lbfgs',\n",
        "                    hidden_layer_sizes=(2,), random_state=None)"
      ],
      "execution_count": 0,
      "outputs": []
    },
    {
      "metadata": {
        "id": "UbU0GXywFCKs",
        "colab_type": "code",
        "colab": {
          "base_uri": "https://localhost:8080/",
          "height": 134
        },
        "outputId": "cf068aa9-a6fb-47a5-85c3-ec28f4dd9796"
      },
      "cell_type": "code",
      "source": [
        "clf.fit(X_train, y_train)"
      ],
      "execution_count": 1129,
      "outputs": [
        {
          "output_type": "execute_result",
          "data": {
            "text/plain": [
              "MLPRegressor(activation='identity', alpha=0.0001, batch_size='auto',\n",
              "       beta_1=0.9, beta_2=0.999, early_stopping=False, epsilon=1e-08,\n",
              "       hidden_layer_sizes=(2,), learning_rate='constant',\n",
              "       learning_rate_init=0.001, max_iter=200, momentum=0.9,\n",
              "       nesterovs_momentum=True, power_t=0.5, random_state=None,\n",
              "       shuffle=True, solver='lbfgs', tol=0.0001, validation_fraction=0.1,\n",
              "       verbose=False, warm_start=False)"
            ]
          },
          "metadata": {
            "tags": []
          },
          "execution_count": 1129
        }
      ]
    },
    {
      "metadata": {
        "id": "95lTmFUxFn8x",
        "colab_type": "code",
        "colab": {}
      },
      "cell_type": "code",
      "source": [
        "predictions = clf.predict(X_test)"
      ],
      "execution_count": 0,
      "outputs": []
    },
    {
      "metadata": {
        "id": "JV5FScztTkZ1",
        "colab_type": "code",
        "colab": {
          "base_uri": "https://localhost:8080/",
          "height": 610
        },
        "outputId": "8d14dcd2-7265-4ab8-a487-3355a4eccd6a"
      },
      "cell_type": "code",
      "source": [
        "buildCompareT = {'cidade':X_test['cidade'],'m2Aprox': X_test['m2Aprox'], 'yTest': y_test, 'yPredicted':predictions.astype('int64')}\n",
        "compareT = pd.DataFrame(data=buildCompareT)\n",
        "compareT['Dif'] = compareT['yPredicted'] - compareT['yTest']\n",
        "compareT"
      ],
      "execution_count": 1131,
      "outputs": [
        {
          "output_type": "execute_result",
          "data": {
            "text/html": [
              "<div>\n",
              "<style scoped>\n",
              "    .dataframe tbody tr th:only-of-type {\n",
              "        vertical-align: middle;\n",
              "    }\n",
              "\n",
              "    .dataframe tbody tr th {\n",
              "        vertical-align: top;\n",
              "    }\n",
              "\n",
              "    .dataframe thead th {\n",
              "        text-align: right;\n",
              "    }\n",
              "</style>\n",
              "<table border=\"1\" class=\"dataframe\">\n",
              "  <thead>\n",
              "    <tr style=\"text-align: right;\">\n",
              "      <th></th>\n",
              "      <th>cidade</th>\n",
              "      <th>m2Aprox</th>\n",
              "      <th>yPredicted</th>\n",
              "      <th>yTest</th>\n",
              "      <th>Dif</th>\n",
              "    </tr>\n",
              "  </thead>\n",
              "  <tbody>\n",
              "    <tr>\n",
              "      <th>52</th>\n",
              "      <td>1</td>\n",
              "      <td>13</td>\n",
              "      <td>3091</td>\n",
              "      <td>3380</td>\n",
              "      <td>-289</td>\n",
              "    </tr>\n",
              "    <tr>\n",
              "      <th>69</th>\n",
              "      <td>1</td>\n",
              "      <td>112</td>\n",
              "      <td>28754</td>\n",
              "      <td>28125</td>\n",
              "      <td>629</td>\n",
              "    </tr>\n",
              "    <tr>\n",
              "      <th>2</th>\n",
              "      <td>1</td>\n",
              "      <td>17</td>\n",
              "      <td>4127</td>\n",
              "      <td>4580</td>\n",
              "      <td>-453</td>\n",
              "    </tr>\n",
              "    <tr>\n",
              "      <th>25</th>\n",
              "      <td>1</td>\n",
              "      <td>7</td>\n",
              "      <td>1536</td>\n",
              "      <td>2047</td>\n",
              "      <td>-511</td>\n",
              "    </tr>\n",
              "    <tr>\n",
              "      <th>45</th>\n",
              "      <td>1</td>\n",
              "      <td>217</td>\n",
              "      <td>56123</td>\n",
              "      <td>56500</td>\n",
              "      <td>-377</td>\n",
              "    </tr>\n",
              "    <tr>\n",
              "      <th>40</th>\n",
              "      <td>1</td>\n",
              "      <td>104</td>\n",
              "      <td>26754</td>\n",
              "      <td>26857</td>\n",
              "      <td>-103</td>\n",
              "    </tr>\n",
              "    <tr>\n",
              "      <th>4</th>\n",
              "      <td>1</td>\n",
              "      <td>14</td>\n",
              "      <td>3356</td>\n",
              "      <td>3750</td>\n",
              "      <td>-394</td>\n",
              "    </tr>\n",
              "    <tr>\n",
              "      <th>74</th>\n",
              "      <td>1</td>\n",
              "      <td>9</td>\n",
              "      <td>2057</td>\n",
              "      <td>2496</td>\n",
              "      <td>-439</td>\n",
              "    </tr>\n",
              "    <tr>\n",
              "      <th>71</th>\n",
              "      <td>1</td>\n",
              "      <td>140</td>\n",
              "      <td>36003</td>\n",
              "      <td>35911</td>\n",
              "      <td>92</td>\n",
              "    </tr>\n",
              "    <tr>\n",
              "      <th>65</th>\n",
              "      <td>1</td>\n",
              "      <td>220</td>\n",
              "      <td>56891</td>\n",
              "      <td>56431</td>\n",
              "      <td>460</td>\n",
              "    </tr>\n",
              "    <tr>\n",
              "      <th>15</th>\n",
              "      <td>1</td>\n",
              "      <td>6</td>\n",
              "      <td>1275</td>\n",
              "      <td>1621</td>\n",
              "      <td>-346</td>\n",
              "    </tr>\n",
              "    <tr>\n",
              "      <th>41</th>\n",
              "      <td>1</td>\n",
              "      <td>280</td>\n",
              "      <td>72473</td>\n",
              "      <td>78400</td>\n",
              "      <td>-5927</td>\n",
              "    </tr>\n",
              "    <tr>\n",
              "      <th>56</th>\n",
              "      <td>1</td>\n",
              "      <td>108</td>\n",
              "      <td>27776</td>\n",
              "      <td>27779</td>\n",
              "      <td>-3</td>\n",
              "    </tr>\n",
              "    <tr>\n",
              "      <th>79</th>\n",
              "      <td>1</td>\n",
              "      <td>20</td>\n",
              "      <td>4915</td>\n",
              "      <td>5300</td>\n",
              "      <td>-385</td>\n",
              "    </tr>\n",
              "    <tr>\n",
              "      <th>54</th>\n",
              "      <td>1</td>\n",
              "      <td>3</td>\n",
              "      <td>493</td>\n",
              "      <td>1026</td>\n",
              "      <td>-533</td>\n",
              "    </tr>\n",
              "    <tr>\n",
              "      <th>93</th>\n",
              "      <td>1</td>\n",
              "      <td>358</td>\n",
              "      <td>92769</td>\n",
              "      <td>91830</td>\n",
              "      <td>939</td>\n",
              "    </tr>\n",
              "    <tr>\n",
              "      <th>3</th>\n",
              "      <td>1</td>\n",
              "      <td>120</td>\n",
              "      <td>30900</td>\n",
              "      <td>30922</td>\n",
              "      <td>-22</td>\n",
              "    </tr>\n",
              "    <tr>\n",
              "      <th>12</th>\n",
              "      <td>1</td>\n",
              "      <td>235</td>\n",
              "      <td>60615</td>\n",
              "      <td>60279</td>\n",
              "      <td>336</td>\n",
              "    </tr>\n",
              "    <tr>\n",
              "      <th>33</th>\n",
              "      <td>1</td>\n",
              "      <td>32</td>\n",
              "      <td>8034</td>\n",
              "      <td>8255</td>\n",
              "      <td>-221</td>\n",
              "    </tr>\n",
              "  </tbody>\n",
              "</table>\n",
              "</div>"
            ],
            "text/plain": [
              "    cidade  m2Aprox  yPredicted  yTest   Dif\n",
              "52       1       13        3091   3380  -289\n",
              "69       1      112       28754  28125   629\n",
              "2        1       17        4127   4580  -453\n",
              "25       1        7        1536   2047  -511\n",
              "45       1      217       56123  56500  -377\n",
              "40       1      104       26754  26857  -103\n",
              "4        1       14        3356   3750  -394\n",
              "74       1        9        2057   2496  -439\n",
              "71       1      140       36003  35911    92\n",
              "65       1      220       56891  56431   460\n",
              "15       1        6        1275   1621  -346\n",
              "41       1      280       72473  78400 -5927\n",
              "56       1      108       27776  27779    -3\n",
              "79       1       20        4915   5300  -385\n",
              "54       1        3         493   1026  -533\n",
              "93       1      358       92769  91830   939\n",
              "3        1      120       30900  30922   -22\n",
              "12       1      235       60615  60279   336\n",
              "33       1       32        8034   8255  -221"
            ]
          },
          "metadata": {
            "tags": []
          },
          "execution_count": 1131
        }
      ]
    },
    {
      "metadata": {
        "id": "I4VtGKzQWa3m",
        "colab_type": "code",
        "colab": {
          "base_uri": "https://localhost:8080/",
          "height": 378
        },
        "outputId": "99f5ef99-c08d-43a9-da6d-2f9b727089d3"
      },
      "cell_type": "code",
      "source": [
        "plt.scatter(y_test, predictions)\n",
        "plt.xlabel('True Values')\n",
        "plt.ylabel('Predictions')"
      ],
      "execution_count": 1132,
      "outputs": [
        {
          "output_type": "execute_result",
          "data": {
            "text/plain": [
              "Text(0,0.5,u'Predictions')"
            ]
          },
          "metadata": {
            "tags": []
          },
          "execution_count": 1132
        },
        {
          "output_type": "display_data",
          "data": {
            "image/png": "[encoded data removed]",
            "text/plain": [
              "<matplotlib.figure.Figure at 0x7fa1c60ede10>"
            ]
          },
          "metadata": {
            "tags": []
          }
        }
      ]
    },
    {
      "metadata": {
        "id": "KPrpYUIZ6qEl",
        "colab_type": "code",
        "colab": {
          "base_uri": "https://localhost:8080/",
          "height": 50
        },
        "outputId": "971feae0-ec22-4885-987b-2f8fbb3ef4f2"
      },
      "cell_type": "code",
      "source": [
        "\"\"\"\n",
        "Regression metrics\n",
        "See the Regression metrics section of the user guide for further details.\n",
        "\n",
        "metrics.explained_variance_score(y_true, y_pred)\tExplained variance regression score function\n",
        "metrics.mean_absolute_error(y_true, y_pred)\tMean absolute error regression loss\n",
        "metrics.mean_squared_error(y_true, y_pred[, …])\tMean squared error regression loss\n",
        "metrics.mean_squared_log_error(y_true, y_pred)\tMean squared logarithmic error regression loss\n",
        "metrics.median_absolute_error(y_true, y_pred)\tMedian absolute error regression loss\n",
        "metrics.r2_score(y_true, y_pred[, …])\tR^2 (coefficient of determination) regression score function.\n",
        "\"\"\"\n",
        "from sklearn.metrics import explained_variance_score\n",
        "from sklearn.metrics import mean_absolute_error\n",
        "from sklearn.metrics import mean_squared_error\n",
        "from sklearn.metrics import mean_squared_log_error\n",
        "from sklearn.metrics import median_absolute_error\n",
        "from sklearn.metrics import r2_score\n",
        "\n",
        "print 'explained_variance_score: '\n",
        "explained_variance_score(y_test, predictions)\n"
      ],
      "execution_count": 1133,
      "outputs": [
        {
          "output_type": "stream",
          "text": [
            "explained_variance_score: \n"
          ],
          "name": "stdout"
        },
        {
          "output_type": "execute_result",
          "data": {
            "text/plain": [
              "0.9975992491877179"
            ]
          },
          "metadata": {
            "tags": []
          },
          "execution_count": 1133
        }
      ]
    },
    {
      "metadata": {
        "id": "ciCqblSW8Yr6",
        "colab_type": "code",
        "colab": {
          "base_uri": "https://localhost:8080/",
          "height": 50
        },
        "outputId": "9045f220-e5e8-4671-bb19-f19797a5e952"
      },
      "cell_type": "code",
      "source": [
        "'''\n",
        "Erro Absoluto Médio (MAE): Mede a magnitude média dos erros em um conjunto de \n",
        "previsões, sem considerar sua direção. É a média sobre a amostra de teste das \n",
        "diferenças absolutas entre previsão e observação real, onde todas as diferenças \n",
        "individuais têm peso igual.\n",
        "\n",
        "Se o valor absoluto não for obtido (os sinais dos erros não são removidos), \n",
        "o erro médio torna-se o erro de polarização média (MBE) e é geralmente \n",
        "destinado a medir o viés de modelo médio. O MBE pode transmitir informações \n",
        "úteis, mas deve ser interpretado com cautela porque os erros positivos e \n",
        "negativos serão cancelados.\n",
        "\n",
        "https://medium.com/human-in-a-machine-world/mae-and-rmse-which-metric-is-better-e60ac3bde13d\n",
        "'''\n",
        "\n",
        "print 'mean_absolute_error: '\n",
        "mean_absolute_error(y_test, predictions)\n",
        "\n"
      ],
      "execution_count": 1134,
      "outputs": [
        {
          "output_type": "stream",
          "text": [
            "mean_absolute_error: \n"
          ],
          "name": "stdout"
        },
        {
          "output_type": "execute_result",
          "data": {
            "text/plain": [
              "655.4500449408143"
            ]
          },
          "metadata": {
            "tags": []
          },
          "execution_count": 1134
        }
      ]
    },
    {
      "metadata": {
        "id": "a2dmiCie9oJD",
        "colab_type": "code",
        "colab": {
          "base_uri": "https://localhost:8080/",
          "height": 34
        },
        "outputId": "056fd471-454f-4f48-8e72-5e23fc6d99b3"
      },
      "cell_type": "code",
      "source": [
        "\"\"\"\n",
        "Robusto contra outliners.\n",
        "Não suporta multi-output.\n",
        "\n",
        "A perda é calculada tomando a mediana de todas as diferenças absolutas\n",
        "entre o alvo e a predição.\n",
        "\"\"\"\n",
        "median_absolute_error(y_test, predictions)\n",
        "\n"
      ],
      "execution_count": 1135,
      "outputs": [
        {
          "output_type": "execute_result",
          "data": {
            "text/plain": [
              "384.48202228303126"
            ]
          },
          "metadata": {
            "tags": []
          },
          "execution_count": 1135
        }
      ]
    },
    {
      "metadata": {
        "id": "GAtfCwJJ9p53",
        "colab_type": "code",
        "colab": {
          "base_uri": "https://localhost:8080/",
          "height": 50
        },
        "outputId": "53a1a3a3-9544-4315-8803-cac8550ac387"
      },
      "cell_type": "code",
      "source": [
        "print 'r2_score: '\n",
        "r2_score(y_test, predictions)"
      ],
      "execution_count": 1136,
      "outputs": [
        {
          "output_type": "stream",
          "text": [
            "r2_score: \n"
          ],
          "name": "stdout"
        },
        {
          "output_type": "execute_result",
          "data": {
            "text/plain": [
              "0.9973965495925092"
            ]
          },
          "metadata": {
            "tags": []
          },
          "execution_count": 1136
        }
      ]
    }
  ]
}