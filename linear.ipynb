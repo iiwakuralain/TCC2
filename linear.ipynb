{
 "cells": [
  {
   "cell_type": "code",
   "execution_count": 76,
   "metadata": {},
   "outputs": [],
   "source": [
    "import numpy as np # linear algebra\n",
    "import pandas as pd # data processing, CSV file I/O (e.g. pd.read_csv)\n",
    "%matplotlib inline\n",
    "import matplotlib.pyplot as plt  # Matlab-style plotting\n",
    "import seaborn as sns\n",
    "from pylab import rcParams\n",
    "from sklearn import linear_model\n",
    "import matplotlib.pyplot as plt\n",
    "from sklearn.metrics import mean_squared_error, r2_score\n",
    "from IPython.display import display\n",
    "pd.options.mode.chained_assignment = None\n",
    "color = sns.color_palette()\n",
    "sns.set_style('darkgrid')"
   ]
  },
  {
   "cell_type": "code",
   "execution_count": 77,
   "metadata": {},
   "outputs": [],
   "source": [
    "df = pd.read_csv('db.csv')"
   ]
  },
  {
   "cell_type": "code",
   "execution_count": 78,
   "metadata": {},
   "outputs": [
    {
     "data": {
      "text/html": [
       "<div>\n",
       "<style scoped>\n",
       "    .dataframe tbody tr th:only-of-type {\n",
       "        vertical-align: middle;\n",
       "    }\n",
       "\n",
       "    .dataframe tbody tr th {\n",
       "        vertical-align: top;\n",
       "    }\n",
       "\n",
       "    .dataframe thead th {\n",
       "        text-align: right;\n",
       "    }\n",
       "</style>\n",
       "<table border=\"1\" class=\"dataframe\">\n",
       "  <thead>\n",
       "    <tr style=\"text-align: right;\">\n",
       "      <th></th>\n",
       "      <th>cidade</th>\n",
       "      <th>m2Aprox</th>\n",
       "      <th>4mm</th>\n",
       "      <th>3mm</th>\n",
       "      <th>$4mm</th>\n",
       "      <th>$3mm</th>\n",
       "    </tr>\n",
       "  </thead>\n",
       "  <tbody>\n",
       "    <tr>\n",
       "      <th>0</th>\n",
       "      <td>1</td>\n",
       "      <td>58.652928</td>\n",
       "      <td>18054.0</td>\n",
       "      <td>15045.00000</td>\n",
       "      <td>297.782896</td>\n",
       "      <td>256.508935</td>\n",
       "    </tr>\n",
       "    <tr>\n",
       "      <th>1</th>\n",
       "      <td>1</td>\n",
       "      <td>148.766748</td>\n",
       "      <td>45000.0</td>\n",
       "      <td>38160.00000</td>\n",
       "      <td>297.782896</td>\n",
       "      <td>256.508935</td>\n",
       "    </tr>\n",
       "    <tr>\n",
       "      <th>2</th>\n",
       "      <td>1</td>\n",
       "      <td>17.855129</td>\n",
       "      <td>5000.0</td>\n",
       "      <td>4580.00000</td>\n",
       "      <td>297.782896</td>\n",
       "      <td>256.508935</td>\n",
       "    </tr>\n",
       "    <tr>\n",
       "      <th>3</th>\n",
       "      <td>1</td>\n",
       "      <td>120.552592</td>\n",
       "      <td>35898.5</td>\n",
       "      <td>30922.81693</td>\n",
       "      <td>297.782896</td>\n",
       "      <td>256.508935</td>\n",
       "    </tr>\n",
       "    <tr>\n",
       "      <th>4</th>\n",
       "      <td>1</td>\n",
       "      <td>14.619374</td>\n",
       "      <td>4375.0</td>\n",
       "      <td>3750.00000</td>\n",
       "      <td>297.782896</td>\n",
       "      <td>256.508935</td>\n",
       "    </tr>\n",
       "  </tbody>\n",
       "</table>\n",
       "</div>"
      ],
      "text/plain": [
       "   cidade     m2Aprox      4mm          3mm        $4mm        $3mm\n",
       "0       1   58.652928  18054.0  15045.00000  297.782896  256.508935\n",
       "1       1  148.766748  45000.0  38160.00000  297.782896  256.508935\n",
       "2       1   17.855129   5000.0   4580.00000  297.782896  256.508935\n",
       "3       1  120.552592  35898.5  30922.81693  297.782896  256.508935\n",
       "4       1   14.619374   4375.0   3750.00000  297.782896  256.508935"
      ]
     },
     "execution_count": 78,
     "metadata": {},
     "output_type": "execute_result"
    }
   ],
   "source": [
    "df.head()"
   ]
  },
  {
   "cell_type": "code",
   "execution_count": 79,
   "metadata": {},
   "outputs": [],
   "source": [
    "from sklearn import linear_model\n",
    "from sklearn.model_selection import train_test_split"
   ]
  },
  {
   "cell_type": "code",
   "execution_count": 80,
   "metadata": {},
   "outputs": [],
   "source": [
    "joinville = df.loc[(df['cidade']==1)].astype('int64')"
   ]
  },
  {
   "cell_type": "code",
   "execution_count": 81,
   "metadata": {},
   "outputs": [
    {
     "name": "stdout",
     "output_type": "stream",
     "text": [
      "<class 'pandas.core.frame.DataFrame'>\n",
      "Int64Index: 95 entries, 0 to 94\n",
      "Data columns (total 6 columns):\n",
      "cidade     95 non-null int64\n",
      "m2Aprox    95 non-null int64\n",
      "4mm        95 non-null int64\n",
      "3mm        95 non-null int64\n",
      "$4mm       95 non-null int64\n",
      "$3mm       95 non-null int64\n",
      "dtypes: int64(6)\n",
      "memory usage: 5.2 KB\n"
     ]
    }
   ],
   "source": [
    "joinville.info()"
   ]
  },
  {
   "cell_type": "code",
   "execution_count": 82,
   "metadata": {},
   "outputs": [],
   "source": [
    "#define os inputs (uso apenas a coluna m2Aprox, o restante dropa)#define o \n",
    "X = joinville.drop(['3mm','4mm','cidade','$3mm','$4mm'], axis = 1)\n",
    "#target de predição, preço final 3mm\n",
    "y = joinville['3mm']\n",
    "#Divide em treino e testes\n",
    "X_train, X_test, y_train, y_test = train_test_split(X, y, test_size=0.20)"
   ]
  },
  {
   "cell_type": "code",
   "execution_count": 83,
   "metadata": {},
   "outputs": [],
   "source": [
    "lm = linear_model.LinearRegression()"
   ]
  },
  {
   "cell_type": "code",
   "execution_count": 84,
   "metadata": {},
   "outputs": [],
   "source": [
    "model = lm.fit(X_train, y_train)"
   ]
  },
  {
   "cell_type": "code",
   "execution_count": 85,
   "metadata": {},
   "outputs": [],
   "source": [
    "pred = lm.predict(X_test)"
   ]
  },
  {
   "cell_type": "code",
   "execution_count": 86,
   "metadata": {},
   "outputs": [
    {
     "data": {
      "image/png": "[encoded data removed]",
      "text/plain": [
       "<matplotlib.figure.Figure at 0x1e67412a748>"
      ]
     },
     "metadata": {},
     "output_type": "display_data"
    }
   ],
   "source": [
    "sns.set()\n",
    "\n",
    "sns.set_context(\"paper\", font_scale=1.5, rc={\"font.size\":5,\"axes.labelsize\":25})\n",
    "    \n",
    "sns.regplot(x=X_test['m2Aprox'], y=pred,color='red');\n",
    "sns.regplot(x=X_test['m2Aprox'], y=y_test, color='black');"
   ]
  },
  {
   "cell_type": "code",
   "execution_count": 87,
   "metadata": {},
   "outputs": [
    {
     "name": "stdout",
     "output_type": "stream",
     "text": [
      "Média do erro absoluto:  1222.7303760614154\n",
      "Média de erro relativo:  0.0759571065475499\n"
     ]
    }
   ],
   "source": [
    "print('Média do erro absoluto: ', np.absolute((pred-y_test)).mean())\n",
    "print ('Média de erro relativo: ', np.absolute((pred-y_test)/y_test).mean())"
   ]
  },
  {
   "cell_type": "code",
   "execution_count": 88,
   "metadata": {},
   "outputs": [],
   "source": [
    "##"
   ]
  },
  {
   "cell_type": "code",
   "execution_count": null,
   "metadata": {},
   "outputs": [],
   "source": []
  },
  {
   "cell_type": "code",
   "execution_count": 89,
   "metadata": {},
   "outputs": [],
   "source": [
    "#define os inputs (uso apenas a coluna m2Aprox, o restante dropa)#define o \n",
    "X = joinville.drop(['3mm'], axis = 1)\n",
    "#target de predição, preço final 3mm\n",
    "y = joinville['3mm']\n",
    "#Divide em treino e testes\n",
    "X_train, X_test, y_train, y_test = train_test_split(X, y, test_size=0.20)"
   ]
  },
  {
   "cell_type": "code",
   "execution_count": 90,
   "metadata": {},
   "outputs": [],
   "source": [
    "lm = linear_model.LinearRegression()"
   ]
  },
  {
   "cell_type": "code",
   "execution_count": 91,
   "metadata": {},
   "outputs": [],
   "source": [
    "model = lm.fit(X_train, y_train)"
   ]
  },
  {
   "cell_type": "code",
   "execution_count": 92,
   "metadata": {},
   "outputs": [],
   "source": [
    "pred = lm.predict(X_test)"
   ]
  },
  {
   "cell_type": "code",
   "execution_count": 93,
   "metadata": {},
   "outputs": [
    {
     "data": {
      "image/png": "[encoded data removed]",
      "text/plain": [
       "<matplotlib.figure.Figure at 0x1e673eba128>"
      ]
     },
     "metadata": {},
     "output_type": "display_data"
    }
   ],
   "source": [
    "sns.set()\n",
    "\n",
    "sns.set_context(\"paper\", font_scale=1.5, rc={\"font.size\":5,\"axes.labelsize\":25})\n",
    "    \n",
    "sns.regplot(x=X_test['m2Aprox'], y=pred,color='red');\n",
    "sns.regplot(x=X_test['m2Aprox'], y=y_test, color='black');"
   ]
  },
  {
   "cell_type": "code",
   "execution_count": 94,
   "metadata": {},
   "outputs": [
    {
     "name": "stdout",
     "output_type": "stream",
     "text": [
      "Média do erro absoluto:  1858.5735986663533\n",
      "Média de erro relativo:  0.06890279999619264\n"
     ]
    }
   ],
   "source": [
    "print('Média do erro absoluto: ', np.absolute((pred-y_test)).mean())\n",
    "print ('Média de erro relativo: ', np.absolute((pred-y_test)/y_test).mean())"
   ]
  },
  {
   "cell_type": "code",
   "execution_count": null,
   "metadata": {},
   "outputs": [],
   "source": []
  },
  {
   "cell_type": "code",
   "execution_count": null,
   "metadata": {},
   "outputs": [],
   "source": []
  }
 ],
 "metadata": {
  "kernelspec": {
   "display_name": "Python 3",
   "language": "python",
   "name": "python3"
  },
  "language_info": {
   "codemirror_mode": {
    "name": "ipython",
    "version": 3
   },
   "file_extension": ".py",
   "mimetype": "text/x-python",
   "name": "python",
   "nbconvert_exporter": "python",
   "pygments_lexer": "ipython3",
   "version": "3.6.5"
  }
 },
 "nbformat": 4,
 "nbformat_minor": 2
}
