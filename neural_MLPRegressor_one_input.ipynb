{
  "nbformat": 4,
  "nbformat_minor": 0,
  "metadata": {
    "colab": {
      "name": "neural_MLPRegressor_one_input.ipynb",
      "version": "0.3.2",
      "provenance": [],
      "collapsed_sections": [],
      "include_colab_link": true
    }
  },
  "cells": [
    {
      "cell_type": "markdown",
      "metadata": {
        "id": "view-in-github",
        "colab_type": "text"
      },
      "source": [
        "[View in Colaboratory](https://colab.research.google.com/github/iiwakuralain/TCC2/blob/master/neural_MLPRegressor_one_input.ipynb)"
      ]
    },
    {
      "metadata": {
        "id": "8YKkRBB65iaf",
        "colab_type": "code",
        "colab": {}
      },
      "cell_type": "code",
      "source": [
        "import pandas as pd\n",
        "from sklearn import datasets, linear_model\n",
        "from sklearn.model_selection import train_test_split\n",
        "from matplotlib import pyplot as plt"
      ],
      "execution_count": 0,
      "outputs": []
    },
    {
      "metadata": {
        "id": "8rgYQI4iDiM0",
        "colab_type": "code",
        "colab": {}
      },
      "cell_type": "code",
      "source": [
        "#!pip install -q xlrd\n",
        "#!git clone https://github.com/iiwakuralain/TCC2"
      ],
      "execution_count": 0,
      "outputs": []
    },
    {
      "metadata": {
        "id": "W2Z935poDyda",
        "colab_type": "code",
        "colab": {}
      },
      "cell_type": "code",
      "source": [
        ""
      ],
      "execution_count": 0,
      "outputs": []
    },
    {
      "metadata": {
        "id": "J_gWebIHDy1R",
        "colab_type": "code",
        "colab": {
          "base_uri": "https://localhost:8080/",
          "height": 51
        },
        "outputId": "734fcf88-9bfe-441e-de9c-b482bb4f7f4c"
      },
      "cell_type": "code",
      "source": [
        "ls"
      ],
      "execution_count": 609,
      "outputs": [
        {
          "output_type": "stream",
          "text": [
            "db.csv     LICENSE       neural_MLPRegressor.ipynb        \u001b[0m\u001b[01;34mTCC2\u001b[0m/\r\n",
            "db_ok.csv  linear.ipynb  NeuralNetwork_Simple_Test.ipynb\r\n"
          ],
          "name": "stdout"
        }
      ]
    },
    {
      "metadata": {
        "id": "TCrE2MuYED3Q",
        "colab_type": "code",
        "colab": {}
      },
      "cell_type": "code",
      "source": [
        "import pandas as pd\n",
        "df = pd.read_csv('db_ok.csv')"
      ],
      "execution_count": 0,
      "outputs": []
    },
    {
      "metadata": {
        "id": "wVWlq-8s5q7v",
        "colab_type": "code",
        "colab": {}
      },
      "cell_type": "code",
      "source": [
        "import os\n",
        "os.environ['TF_CPP_MIN_LOG_LEVEL'] = '3' "
      ],
      "execution_count": 0,
      "outputs": []
    },
    {
      "metadata": {
        "id": "VGnxdn7y7uyA",
        "colab_type": "code",
        "colab": {}
      },
      "cell_type": "code",
      "source": [
        "joinville = df.loc[(df['cidade'] == 1)]"
      ],
      "execution_count": 0,
      "outputs": []
    },
    {
      "metadata": {
        "id": "pIzqyWb_8BO3",
        "colab_type": "code",
        "colab": {
          "base_uri": "https://localhost:8080/",
          "height": 204
        },
        "outputId": "7df468bc-5ba5-4d54-bd2e-3544a71a6fa1"
      },
      "cell_type": "code",
      "source": [
        "joinville.head()"
      ],
      "execution_count": 613,
      "outputs": [
        {
          "output_type": "execute_result",
          "data": {
            "text/html": [
              "<div>\n",
              "<style scoped>\n",
              "    .dataframe tbody tr th:only-of-type {\n",
              "        vertical-align: middle;\n",
              "    }\n",
              "\n",
              "    .dataframe tbody tr th {\n",
              "        vertical-align: top;\n",
              "    }\n",
              "\n",
              "    .dataframe thead th {\n",
              "        text-align: right;\n",
              "    }\n",
              "</style>\n",
              "<table border=\"1\" class=\"dataframe\">\n",
              "  <thead>\n",
              "    <tr style=\"text-align: right;\">\n",
              "      <th></th>\n",
              "      <th>cidade</th>\n",
              "      <th>m2Aprox</th>\n",
              "      <th>4mm</th>\n",
              "      <th>3mm</th>\n",
              "      <th>$4mm</th>\n",
              "      <th>$3mm</th>\n",
              "    </tr>\n",
              "  </thead>\n",
              "  <tbody>\n",
              "    <tr>\n",
              "      <th>0</th>\n",
              "      <td>1</td>\n",
              "      <td>58.652928</td>\n",
              "      <td>18054.0</td>\n",
              "      <td>15045.00000</td>\n",
              "      <td>297.782896</td>\n",
              "      <td>256.508935</td>\n",
              "    </tr>\n",
              "    <tr>\n",
              "      <th>1</th>\n",
              "      <td>1</td>\n",
              "      <td>148.766748</td>\n",
              "      <td>45000.0</td>\n",
              "      <td>38160.00000</td>\n",
              "      <td>297.782896</td>\n",
              "      <td>256.508935</td>\n",
              "    </tr>\n",
              "    <tr>\n",
              "      <th>2</th>\n",
              "      <td>1</td>\n",
              "      <td>17.855129</td>\n",
              "      <td>5000.0</td>\n",
              "      <td>4580.00000</td>\n",
              "      <td>297.782896</td>\n",
              "      <td>256.508935</td>\n",
              "    </tr>\n",
              "    <tr>\n",
              "      <th>3</th>\n",
              "      <td>1</td>\n",
              "      <td>120.552592</td>\n",
              "      <td>35898.5</td>\n",
              "      <td>30922.81693</td>\n",
              "      <td>297.782896</td>\n",
              "      <td>256.508935</td>\n",
              "    </tr>\n",
              "    <tr>\n",
              "      <th>4</th>\n",
              "      <td>1</td>\n",
              "      <td>14.619374</td>\n",
              "      <td>4375.0</td>\n",
              "      <td>3750.00000</td>\n",
              "      <td>297.782896</td>\n",
              "      <td>256.508935</td>\n",
              "    </tr>\n",
              "  </tbody>\n",
              "</table>\n",
              "</div>"
            ],
            "text/plain": [
              "   cidade     m2Aprox      4mm          3mm        $4mm        $3mm\n",
              "0       1   58.652928  18054.0  15045.00000  297.782896  256.508935\n",
              "1       1  148.766748  45000.0  38160.00000  297.782896  256.508935\n",
              "2       1   17.855129   5000.0   4580.00000  297.782896  256.508935\n",
              "3       1  120.552592  35898.5  30922.81693  297.782896  256.508935\n",
              "4       1   14.619374   4375.0   3750.00000  297.782896  256.508935"
            ]
          },
          "metadata": {
            "tags": []
          },
          "execution_count": 613
        }
      ]
    },
    {
      "metadata": {
        "id": "u1_B8hLD8C9w",
        "colab_type": "code",
        "colab": {
          "base_uri": "https://localhost:8080/",
          "height": 34
        },
        "outputId": "883e433f-b6e2-4f88-d979-da3992b712e6"
      },
      "cell_type": "code",
      "source": [
        "joinville.shape"
      ],
      "execution_count": 614,
      "outputs": [
        {
          "output_type": "execute_result",
          "data": {
            "text/plain": [
              "(95, 6)"
            ]
          },
          "metadata": {
            "tags": []
          },
          "execution_count": 614
        }
      ]
    },
    {
      "metadata": {
        "id": "7kEWB47VDg8L",
        "colab_type": "code",
        "colab": {
          "base_uri": "https://localhost:8080/",
          "height": 221
        },
        "outputId": "746221c0-d31a-4c9b-f8ab-c46815db2567"
      },
      "cell_type": "code",
      "source": [
        "mydf = joinville.astype('int64')\n",
        "print(mydf.info()) # Overview of dataset"
      ],
      "execution_count": 615,
      "outputs": [
        {
          "output_type": "stream",
          "text": [
            "<class 'pandas.core.frame.DataFrame'>\n",
            "Int64Index: 95 entries, 0 to 94\n",
            "Data columns (total 6 columns):\n",
            "cidade     95 non-null int64\n",
            "m2Aprox    95 non-null int64\n",
            "4mm        95 non-null int64\n",
            "3mm        95 non-null int64\n",
            "$4mm       95 non-null int64\n",
            "$3mm       95 non-null int64\n",
            "dtypes: int64(6)\n",
            "memory usage: 5.2 KB\n",
            "None\n"
          ],
          "name": "stdout"
        }
      ]
    },
    {
      "metadata": {
        "id": "pdW3apLUy_RX",
        "colab_type": "code",
        "colab": {
          "base_uri": "https://localhost:8080/",
          "height": 34
        },
        "outputId": "c46e5506-0acc-4f3c-dd8a-117f6487a096"
      },
      "cell_type": "code",
      "source": [
        "df_joinville = mydf.drop(['3mm'], axis=1)\n",
        "y = mydf['3mm']\n",
        "\n",
        "# create training and testing vars\n",
        "X_train, X_test, y_train, y_test = train_test_split(df_joinville, y, test_size=0.20)\n",
        "print(X_train.shape, y_train.shape)"
      ],
      "execution_count": 616,
      "outputs": [
        {
          "output_type": "stream",
          "text": [
            "((76, 5), (76,))\n"
          ],
          "name": "stdout"
        }
      ]
    },
    {
      "metadata": {
        "id": "zMSxriQ8zNnF",
        "colab_type": "code",
        "colab": {}
      },
      "cell_type": "code",
      "source": [
        "from sklearn.neural_network import MLPRegressor"
      ],
      "execution_count": 0,
      "outputs": []
    },
    {
      "metadata": {
        "id": "CYJ_ou33Etev",
        "colab_type": "code",
        "colab": {}
      },
      "cell_type": "code",
      "source": [
        "clf = MLPRegressor(solver='lbfgs',\n",
        "                    hidden_layer_sizes=(10,10), random_state=1)"
      ],
      "execution_count": 0,
      "outputs": []
    },
    {
      "metadata": {
        "id": "UbU0GXywFCKs",
        "colab_type": "code",
        "colab": {
          "base_uri": "https://localhost:8080/",
          "height": 136
        },
        "outputId": "8ed7f5f2-066f-46cf-80d9-cf0fa33b50da"
      },
      "cell_type": "code",
      "source": [
        "clf.fit(X_train, y_train)"
      ],
      "execution_count": 619,
      "outputs": [
        {
          "output_type": "execute_result",
          "data": {
            "text/plain": [
              "MLPRegressor(activation='relu', alpha=0.0001, batch_size='auto', beta_1=0.9,\n",
              "       beta_2=0.999, early_stopping=False, epsilon=1e-08,\n",
              "       hidden_layer_sizes=(10, 10), learning_rate='constant',\n",
              "       learning_rate_init=0.001, max_iter=200, momentum=0.9,\n",
              "       nesterovs_momentum=True, power_t=0.5, random_state=1, shuffle=True,\n",
              "       solver='lbfgs', tol=0.0001, validation_fraction=0.1, verbose=False,\n",
              "       warm_start=False)"
            ]
          },
          "metadata": {
            "tags": []
          },
          "execution_count": 619
        }
      ]
    },
    {
      "metadata": {
        "id": "95lTmFUxFn8x",
        "colab_type": "code",
        "colab": {}
      },
      "cell_type": "code",
      "source": [
        "predictions = clf.predict(X_test)"
      ],
      "execution_count": 0,
      "outputs": []
    },
    {
      "metadata": {
        "id": "ATtYaEbrKVga",
        "colab_type": "code",
        "colab": {
          "base_uri": "https://localhost:8080/",
          "height": 378
        },
        "outputId": "064efafb-65a4-4e35-d504-6b37371de28f"
      },
      "cell_type": "code",
      "source": [
        "plt.scatter(y_test, predictions)\n",
        "plt.xlabel('True Values')\n",
        "plt.ylabel('Predictions')"
      ],
      "execution_count": 621,
      "outputs": [
        {
          "output_type": "execute_result",
          "data": {
            "text/plain": [
              "Text(0,0.5,u'Predictions')"
            ]
          },
          "metadata": {
            "tags": []
          },
          "execution_count": 621
        },
        {
          "output_type": "display_data",
          "data": {
            "image/png": "[encoded data removed]",
            "text/plain": [
              "<matplotlib.figure.Figure at 0x7f0c686736d0>"
            ]
          },
          "metadata": {
            "tags": []
          }
        }
      ]
    },
    {
      "metadata": {
        "id": "iW3Mi4e7KlDR",
        "colab_type": "code",
        "colab": {
          "base_uri": "https://localhost:8080/",
          "height": 68
        },
        "outputId": "7630bcdf-91cd-485e-93d6-d8c6c2a0f052"
      },
      "cell_type": "code",
      "source": [
        " predictions.astype('int64')"
      ],
      "execution_count": 622,
      "outputs": [
        {
          "output_type": "execute_result",
          "data": {
            "text/plain": [
              "array([171349,   2081,  33507,  36221, 183094,   8438,   8512,  36169,\n",
              "        27006,  29861, 349978,  27577,   6174,  38533, 416980,  16241,\n",
              "         9442,   2807,  29583])"
            ]
          },
          "metadata": {
            "tags": []
          },
          "execution_count": 622
        }
      ]
    },
    {
      "metadata": {
        "id": "XNpbZ51rzNIQ",
        "colab_type": "code",
        "colab": {
          "base_uri": "https://localhost:8080/",
          "height": 357
        },
        "outputId": "c0ba61cb-1185-4fd6-ca93-8ea7ac16a08f"
      },
      "cell_type": "code",
      "source": [
        "y_test"
      ],
      "execution_count": 627,
      "outputs": [
        {
          "output_type": "execute_result",
          "data": {
            "text/plain": [
              "11    177368\n",
              "25      2047\n",
              "71     35911\n",
              "34     36880\n",
              "23    203308\n",
              "67      8375\n",
              "24      8450\n",
              "5      36366\n",
              "40     26857\n",
              "68     30000\n",
              "80    351417\n",
              "56     27779\n",
              "14      5181\n",
              "1      38160\n",
              "53    387777\n",
              "72     16250\n",
              "58      7897\n",
              "31      2689\n",
              "63     29498\n",
              "Name: 3mm, dtype: int64"
            ]
          },
          "metadata": {
            "tags": []
          },
          "execution_count": 627
        }
      ]
    },
    {
      "metadata": {
        "id": "TvbgE--804w8",
        "colab_type": "code",
        "colab": {
          "base_uri": "https://localhost:8080/",
          "height": 68
        },
        "outputId": "06649b4d-d1d4-45c2-aef2-b0afd67de037"
      },
      "cell_type": "code",
      "source": [
        "predictions.astype('int64')"
      ],
      "execution_count": 629,
      "outputs": [
        {
          "output_type": "execute_result",
          "data": {
            "text/plain": [
              "array([171349,   2081,  33507,  36221, 183094,   8438,   8512,  36169,\n",
              "        27006,  29861, 349978,  27577,   6174,  38533, 416980,  16241,\n",
              "         9442,   2807,  29583])"
            ]
          },
          "metadata": {
            "tags": []
          },
          "execution_count": 629
        }
      ]
    },
    {
      "metadata": {
        "id": "JV5FScztTkZ1",
        "colab_type": "code",
        "colab": {}
      },
      "cell_type": "code",
      "source": [
        " "
      ],
      "execution_count": 0,
      "outputs": []
    },
    {
      "metadata": {
        "id": "I4VtGKzQWa3m",
        "colab_type": "code",
        "colab": {}
      },
      "cell_type": "code",
      "source": [
        ""
      ],
      "execution_count": 0,
      "outputs": []
    },
    {
      "metadata": {
        "id": "9_1xHtZlaohh",
        "colab_type": "code",
        "colab": {}
      },
      "cell_type": "code",
      "source": [
        ""
      ],
      "execution_count": 0,
      "outputs": []
    },
    {
      "metadata": {
        "id": "REdPRYWJcSeR",
        "colab_type": "code",
        "colab": {}
      },
      "cell_type": "code",
      "source": [
        ""
      ],
      "execution_count": 0,
      "outputs": []
    }
  ]
}