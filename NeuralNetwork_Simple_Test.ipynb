{
 "cells": [
  {
   "cell_type": "code",
   "execution_count": 71,
   "metadata": {},
   "outputs": [
    {
     "name": "stdout",
     "output_type": "stream",
     "text": [
      "Random starting synaptic weights: \n",
      "[[ 0.7857203 ]\n",
      " [-0.33604039]\n",
      " [ 0.64245825]]\n",
      "Novos pesos sinápticos após o treinamento: \n",
      "[[11.78377815]\n",
      " [-0.20473762]\n",
      " [-5.68758668]]\n",
      "Considerando nova situação [1, 0, 0] ->?: \n",
      "[0.99999237]\n"
     ]
    }
   ],
   "source": [
    "from numpy import exp, array, random, dot\n",
    "class NeuralNetwork():\n",
    "    def __init__(self):\n",
    "        # Alimenta o gerador de números aleatórios, por isso gera os mesmos números\n",
    "        # toda vez que o programa é executado.\n",
    "        random.seed(6)\n",
    "\n",
    "        # Modelado um neurônio, com 3 conexões de entrada e 1 conexão de saída.\n",
    "        # Atribuímos pesos aleatórios a uma matriz 3 x 1, com valores no intervalo de -1 a 1\n",
    "        # e mean 0.\n",
    "        self.synaptic_weights = 2 * random.random((3, 1)) - 1\n",
    "\n",
    "    # A função Sigmoide, que descreve uma curva em forma de S.\n",
    "    # Nós passamos a soma ponderada das entradas através desta função para\n",
    "    # normalize-os entre 0 e 1.\n",
    "    def __sigmoid(self, x):\n",
    "        return 1 / (1 + exp(-x))\n",
    "\n",
    "    # The derivative of the Sigmoid function.\n",
    "    # This is the gradient of the Sigmoid curve.\n",
    "    # It indicates how confident we are about the existing weight.\n",
    "    def __sigmoid_derivative(self, x):\n",
    "        return x * (1 - x)\n",
    "\n",
    "    # treinando a rede neural através de um processo de tentativa e erro.\n",
    "    # Ajustando os pesos sinápticos a cada vez.\n",
    "    def train(self, training_set_inputs, training_set_outputs, number_of_training_iterations):\n",
    "        for iteration in range(number_of_training_iterations):\n",
    "            # Passa o conjunto de treinamento através da nossa rede neural (um único neurônio).\n",
    "            output = self.think(training_set_inputs)\n",
    "\n",
    "            # Calcular o erro (a diferença entre a saída desejada\n",
    "            # e a saída prevista).\n",
    "            error = training_set_outputs - output\n",
    "\n",
    "            # Multiplique o erro pela entrada e novamente pelo gradiente da curva Sigmoide.\n",
    "            # Isso significa que pesos menos confiantes são ajustados mais.\n",
    "            # E que as entradas, que são zero, não causam alterações nos pesos.\n",
    "            adjustment = dot(training_set_inputs.T, error * self.__sigmoid_derivative(output))\n",
    "\n",
    "            # Ajusta os pesos.\n",
    "            self.synaptic_weights += adjustment\n",
    "\n",
    "    # bota pra pensar.\n",
    "    def think(self, inputs):\n",
    "        #Passa as entradas através da rede neural (único neurônio).\n",
    "        return self.__sigmoid(dot(inputs, self.synaptic_weights))\n",
    "\n",
    "\n",
    "if __name__ == \"__main__\":\n",
    "\n",
    "    #Incializa uma rede neural de um único neurônio.\n",
    "    neural_network = NeuralNetwork()\n",
    "\n",
    "    print (\"Random starting synaptic weights: \")\n",
    "    print (neural_network.synaptic_weights)\n",
    "\n",
    "    # O conjunto de treinamento. são temos 4 exemplos, cada um consistindo em 3 valores de entrada\n",
    "    # e 1 valor de saída.\n",
    "    X = [[0, 0, 1], [1, 1, 1], [1, 0, 1], [0, 1, 1]]\n",
    "    y= [[0, 1, 1, 0]]\n",
    "    training_set_inputs = array(X)\n",
    "    training_set_outputs = array(y).T\n",
    "\n",
    "    # Treine a rede neural usando um conjunto de treinamento.\n",
    "    # Faça 10.000 vezes e faça pequenos ajustes a cada vez.\n",
    "    neural_network.train(training_set_inputs, training_set_outputs, 80000)\n",
    "\n",
    "    print (\"Novos pesos sinápticos após o treinamento: \")\n",
    "    print (neural_network.synaptic_weights)\n",
    "\n",
    "    # Test the neural network with a new situation.\n",
    "    print (\"Considerando nova situação [1, 0, 0] ->?: \")\n",
    "    print (neural_network.think(array([1, 0, 0])))"
   ]
  },
  {
   "cell_type": "code",
   "execution_count": null,
   "metadata": {},
   "outputs": [],
   "source": []
  },
  {
   "cell_type": "code",
   "execution_count": null,
   "metadata": {},
   "outputs": [],
   "source": []
  },
  {
   "cell_type": "code",
   "execution_count": null,
   "metadata": {},
   "outputs": [],
   "source": []
  },
  {
   "cell_type": "code",
   "execution_count": null,
   "metadata": {},
   "outputs": [],
   "source": []
  }
 ],
 "metadata": {
  "kernelspec": {
   "display_name": "Python 3",
   "language": "python",
   "name": "python3"
  },
  "language_info": {
   "codemirror_mode": {
    "name": "ipython",
    "version": 3
   },
   "file_extension": ".py",
   "mimetype": "text/x-python",
   "name": "python",
   "nbconvert_exporter": "python",
   "pygments_lexer": "ipython3",
   "version": "3.6.5"
  }
 },
 "nbformat": 4,
 "nbformat_minor": 2
}
