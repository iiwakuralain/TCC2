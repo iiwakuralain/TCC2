{
 "cells": [
  {
   "cell_type": "code",
   "execution_count": 41,
   "metadata": {},
   "outputs": [
    {
     "name": "stdout",
     "output_type": "stream",
     "text": [
      "<class 'pandas.core.frame.DataFrame'>\n",
      "Int64Index: 95 entries, 0 to 94\n",
      "Data columns (total 6 columns):\n",
      "cidade     95 non-null int64\n",
      "m2Aprox    95 non-null int64\n",
      "4mm        95 non-null int64\n",
      "3mm        95 non-null int64\n",
      "$4mm       95 non-null int64\n",
      "$3mm       95 non-null int64\n",
      "dtypes: int64(6)\n",
      "memory usage: 5.2 KB\n"
     ]
    }
   ],
   "source": [
    "import pandas as pd\n",
    "import numpy as np # para álgebra linear\n",
    "from sklearn import datasets, linear_model\n",
    "from sklearn.model_selection import train_test_split\n",
    "from matplotlib import pyplot as plt\n",
    "from sklearn.metrics import r2_score\n",
    "from sklearn.metrics import mean_squared_error\n",
    "\n",
    "#Load Dataset\n",
    "df = pd.read_csv('db.csv')\n",
    "\n",
    "#Busca apenas a cidade joinville (no caso é a cidade n.1) \n",
    "joinville = df.loc[(df['cidade']==1)].astype('int64')\n",
    "joinville.info()"
   ]
  },
  {
   "cell_type": "code",
   "execution_count": 42,
   "metadata": {},
   "outputs": [],
   "source": [
    "#define os inputs (uso apenas a coluna m2Aprox, o restante dropa)\n",
    "X = joinville.drop(['3mm'], axis = 1)\n",
    "#target de predição, preço final 3mm\n",
    "y = joinville['3mm']"
   ]
  },
  {
   "cell_type": "code",
   "execution_count": 43,
   "metadata": {},
   "outputs": [],
   "source": [
    "#Divido em trino e teste.\n",
    "X_train, X_test, y_train, y_test = train_test_split(X, y, test_size=0.20)"
   ]
  },
  {
   "cell_type": "code",
   "execution_count": 44,
   "metadata": {},
   "outputs": [],
   "source": [
    "\"\"\"\n",
    "Funções de ativação.\n",
    "https://matheusfacure.github.io/2017/07/12/activ-func/#fun-act\n",
    "\"\"\"\n",
    "\n",
    "#importa MPL regressor\n",
    "from sklearn.neural_network import MLPRegressor\n",
    "\n",
    "#Defino nnReg como meu regressor\n",
    "#Defino a parametrização\n",
    "nnReg = MLPRegressor(activation='identity',\n",
    "                     solver='lbfgs',\n",
    "                     hidden_layer_sizes=(4,2), \n",
    "                     random_state=None)"
   ]
  },
  {
   "cell_type": "code",
   "execution_count": 45,
   "metadata": {},
   "outputs": [
    {
     "data": {
      "text/plain": [
       "MLPRegressor(activation='identity', alpha=0.0001, batch_size='auto',\n",
       "       beta_1=0.9, beta_2=0.999, early_stopping=False, epsilon=1e-08,\n",
       "       hidden_layer_sizes=(4, 2), learning_rate='constant',\n",
       "       learning_rate_init=0.001, max_iter=200, momentum=0.9,\n",
       "       nesterovs_momentum=True, power_t=0.5, random_state=None,\n",
       "       shuffle=True, solver='lbfgs', tol=0.0001, validation_fraction=0.1,\n",
       "       verbose=False, warm_start=False)"
      ]
     },
     "execution_count": 45,
     "metadata": {},
     "output_type": "execute_result"
    }
   ],
   "source": [
    "#Treino com a base de treinos\n",
    "nnReg.fit(X_train,y_train)"
   ]
  },
  {
   "cell_type": "code",
   "execution_count": 46,
   "metadata": {},
   "outputs": [],
   "source": [
    "#realiza predição\n",
    "pred = nnReg.predict(X_test)"
   ]
  },
  {
   "cell_type": "code",
   "execution_count": 47,
   "metadata": {},
   "outputs": [
    {
     "data": {
      "text/plain": [
       "1393.8025750278448"
      ]
     },
     "execution_count": 47,
     "metadata": {},
     "output_type": "execute_result"
    }
   ],
   "source": [
    "'''\n",
    "Erro Absoluto Médio (MAE): Mede a magnitude média dos erros em um conjunto de \n",
    "previsões, sem considerar sua direção. É a média sobre a amostra de teste das \n",
    "diferenças absolutas entre previsão e observação real, onde todas as diferenças \n",
    "individuais têm peso igual.\n",
    "\n",
    "Se o valor absoluto não for obtido (os sinais dos erros não são removidos), \n",
    "o erro médio torna-se o erro de polarização média (MBE) e é geralmente \n",
    "destinado a medir o viés de modelo médio. O MBE pode transmitir informações \n",
    "úteis, mas deve ser interpretado com cautela porque os erros positivos e \n",
    "negativos serão cancelados.\n",
    "\n",
    "https://medium.com/human-in-a-machine-world/mae-and-rmse-which-metric-is-better-e60ac3bde13d\n",
    "'''\n",
    "\n",
    "from sklearn.metrics import mean_absolute_error\n",
    "mean_absolute_error(y_test, pred)"
   ]
  },
  {
   "cell_type": "code",
   "execution_count": 48,
   "metadata": {},
   "outputs": [
    {
     "data": {
      "text/plain": [
       "369.04505679218755"
      ]
     },
     "execution_count": 48,
     "metadata": {},
     "output_type": "execute_result"
    }
   ],
   "source": [
    "\"\"\"\n",
    "Robusto contra outliners.\n",
    "Não suporta multi-output.\n",
    "\n",
    "A perda é calculada tomando a mediana de todas as diferenças absolutas\n",
    "entre o alvo e a predição.\n",
    "\"\"\"\n",
    "from sklearn.metrics import median_absolute_error\n",
    "median_absolute_error(y_test,pred)"
   ]
  },
  {
   "cell_type": "code",
   "execution_count": 49,
   "metadata": {},
   "outputs": [
    {
     "name": "stdout",
     "output_type": "stream",
     "text": [
      "<class 'pandas.core.frame.DataFrame'>\n",
      "Int64Index: 19 entries, 62 to 79\n",
      "Data columns (total 5 columns):\n",
      "cidade     19 non-null int64\n",
      "m2Aprox    19 non-null int64\n",
      "4mm        19 non-null int64\n",
      "$4mm       19 non-null int64\n",
      "$3mm       19 non-null int64\n",
      "dtypes: int64(5)\n",
      "memory usage: 912.0 bytes\n"
     ]
    }
   ],
   "source": [
    "X_test.info()"
   ]
  },
  {
   "cell_type": "code",
   "execution_count": 50,
   "metadata": {},
   "outputs": [
    {
     "name": "stdout",
     "output_type": "stream",
     "text": [
      "<class 'pandas.core.frame.DataFrame'>\n",
      "Int64Index: 76 entries, 94 to 34\n",
      "Data columns (total 5 columns):\n",
      "cidade     76 non-null int64\n",
      "m2Aprox    76 non-null int64\n",
      "4mm        76 non-null int64\n",
      "$4mm       76 non-null int64\n",
      "$3mm       76 non-null int64\n",
      "dtypes: int64(5)\n",
      "memory usage: 3.6 KB\n"
     ]
    }
   ],
   "source": [
    "X_train.info()"
   ]
  },
  {
   "cell_type": "code",
   "execution_count": 51,
   "metadata": {},
   "outputs": [
    {
     "name": "stdout",
     "output_type": "stream",
     "text": [
      "Média do erro absoluto:  1393.8025750278448\n",
      "Média do erro relativo:  0.05983107254643365\n"
     ]
    }
   ],
   "source": [
    "print('Média do erro absoluto: ', np.absolute((pred - y_test)).mean())\n",
    "print('Média do erro relativo: ', np.absolute(((pred - y_test) / y_test)).mean())"
   ]
  },
  {
   "cell_type": "code",
   "execution_count": 52,
   "metadata": {},
   "outputs": [
    {
     "data": {
      "image/png": "[encoded data removed]",
      "text/plain": [
       "<Figure size 432x288 with 1 Axes>"
      ]
     },
     "metadata": {},
     "output_type": "display_data"
    }
   ],
   "source": [
    "import seaborn as sns\n",
    "sns.set()\n",
    "\n",
    "# Set context to `\"paper\"`\n",
    "sns.set_context(\"paper\", font_scale=1.5, rc={\"font.size\":8,\"axes.labelsize\":30})\n",
    "    \n",
    "sns.regplot(x=X_test['m2Aprox'], y=pred,color='red');\n",
    "sns.regplot(x=X_test['m2Aprox'], y=y_test, color='black');\n"
   ]
  },
  {
   "cell_type": "code",
   "execution_count": 53,
   "metadata": {},
   "outputs": [
    {
     "data": {
      "text/plain": [
       "0.9989721116332435"
      ]
     },
     "execution_count": 53,
     "metadata": {},
     "output_type": "execute_result"
    }
   ],
   "source": [
    "r2_score(y_test,pred)"
   ]
  },
  {
   "cell_type": "code",
   "execution_count": null,
   "metadata": {},
   "outputs": [],
   "source": []
  },
  {
   "cell_type": "code",
   "execution_count": null,
   "metadata": {},
   "outputs": [],
   "source": []
  }
 ],
 "metadata": {
  "kernelspec": {
   "display_name": "Python 3",
   "language": "python",
   "name": "python3"
  },
  "language_info": {
   "codemirror_mode": {
    "name": "ipython",
    "version": 3
   },
   "file_extension": ".py",
   "mimetype": "text/x-python",
   "name": "python",
   "nbconvert_exporter": "python",
   "pygments_lexer": "ipython3",
   "version": "3.6.5"
  }
 },
 "nbformat": 4,
 "nbformat_minor": 2
}
