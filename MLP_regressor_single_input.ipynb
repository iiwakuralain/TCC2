{
  "nbformat": 4,
  "nbformat_minor": 0,
  "metadata": {
    "colab": {
      "name": "MLP_regressor_single_input.ipynb",
      "version": "0.3.2",
      "provenance": [],
      "collapsed_sections": [],
      "include_colab_link": true
    }
  },
  "cells": [
    {
      "cell_type": "markdown",
      "metadata": {
        "id": "view-in-github",
        "colab_type": "text"
      },
      "source": [
        "[View in Colaboratory](https://colab.research.google.com/github/iiwakuralain/TCC2/blob/master/MLP_regressor_single_input.ipynb)"
      ]
    },
    {
      "metadata": {
        "id": "8YKkRBB65iaf",
        "colab_type": "code",
        "colab": {}
      },
      "cell_type": "code",
      "source": [
        "import pandas as pd\n",
        "from sklearn import datasets, linear_model\n",
        "from sklearn.model_selection import train_test_split\n",
        "from matplotlib import pyplot as plt"
      ],
      "execution_count": 0,
      "outputs": []
    },
    {
      "metadata": {
        "id": "8rgYQI4iDiM0",
        "colab_type": "code",
        "colab": {
          "base_uri": "https://localhost:8080/",
          "height": 101
        },
        "outputId": "3a84e67a-b1e7-47d1-ccf8-2136e5ca603e"
      },
      "cell_type": "code",
      "source": [
        "!pip install -q xlrd\n",
        "!git clone https://github.com/iiwakuralain/TCC2"
      ],
      "execution_count": 268,
      "outputs": [
        {
          "output_type": "stream",
          "text": [
            "Cloning into 'TCC2'...\n",
            "remote: Counting objects: 71, done.\u001b[K\n",
            "remote: Compressing objects: 100% (62/62), done.\u001b[K\n",
            "remote: Total 71 (delta 29), reused 27 (delta 8), pack-reused 0\u001b[K\n",
            "Unpacking objects: 100% (71/71), done.\n"
          ],
          "name": "stdout"
        }
      ]
    },
    {
      "metadata": {
        "id": "W2Z935poDyda",
        "colab_type": "code",
        "colab": {
          "base_uri": "https://localhost:8080/",
          "height": 34
        },
        "outputId": "20c726f5-4aae-4f84-f26a-0a5e50dddfe4"
      },
      "cell_type": "code",
      "source": [
        "cd TCC2"
      ],
      "execution_count": 269,
      "outputs": [
        {
          "output_type": "stream",
          "text": [
            "/content/TCC2/TCC2/TCC2/TCC2/TCC2/TCC2/TCC2/TCC2/TCC2/TCC2/TCC2/TCC2/TCC2/TCC2/TCC2/TCC2\n"
          ],
          "name": "stdout"
        }
      ]
    },
    {
      "metadata": {
        "id": "J_gWebIHDy1R",
        "colab_type": "code",
        "colab": {
          "base_uri": "https://localhost:8080/",
          "height": 101
        },
        "outputId": "af0ccb45-4a02-4ca7-fce7-1552a5aefd66"
      },
      "cell_type": "code",
      "source": [
        "ls"
      ],
      "execution_count": 270,
      "outputs": [
        {
          "output_type": "stream",
          "text": [
            "db.csv                           MLP_regressor_single_input.ipynb\r\n",
            "db_ok.csv                        neural_MLPRegressor.ipynb\r\n",
            "LICENSE                          neural_MLPRegressor_one_input.ipynb\r\n",
            "linear.ipynb                     NeuralNetwork_Simple_Test.ipynb\r\n",
            "MLP_regressor_multi_input.ipynb\r\n"
          ],
          "name": "stdout"
        }
      ]
    },
    {
      "metadata": {
        "id": "TCrE2MuYED3Q",
        "colab_type": "code",
        "colab": {}
      },
      "cell_type": "code",
      "source": [
        "import pandas as pd\n",
        "df = pd.read_csv('db_ok.csv')"
      ],
      "execution_count": 0,
      "outputs": []
    },
    {
      "metadata": {
        "id": "wVWlq-8s5q7v",
        "colab_type": "code",
        "colab": {}
      },
      "cell_type": "code",
      "source": [
        "import os\n",
        "os.environ['TF_CPP_MIN_LOG_LEVEL'] = '3' "
      ],
      "execution_count": 0,
      "outputs": []
    },
    {
      "metadata": {
        "id": "VGnxdn7y7uyA",
        "colab_type": "code",
        "colab": {}
      },
      "cell_type": "code",
      "source": [
        "joinville = df.loc[(df['cidade'] == 1)]"
      ],
      "execution_count": 0,
      "outputs": []
    },
    {
      "metadata": {
        "id": "pIzqyWb_8BO3",
        "colab_type": "code",
        "colab": {
          "base_uri": "https://localhost:8080/",
          "height": 195
        },
        "outputId": "a59d8d30-f93c-4673-ab5c-9c2079ecac78"
      },
      "cell_type": "code",
      "source": [
        "joinville.head()"
      ],
      "execution_count": 274,
      "outputs": [
        {
          "output_type": "execute_result",
          "data": {
            "text/html": [
              "<div>\n",
              "<style scoped>\n",
              "    .dataframe tbody tr th:only-of-type {\n",
              "        vertical-align: middle;\n",
              "    }\n",
              "\n",
              "    .dataframe tbody tr th {\n",
              "        vertical-align: top;\n",
              "    }\n",
              "\n",
              "    .dataframe thead th {\n",
              "        text-align: right;\n",
              "    }\n",
              "</style>\n",
              "<table border=\"1\" class=\"dataframe\">\n",
              "  <thead>\n",
              "    <tr style=\"text-align: right;\">\n",
              "      <th></th>\n",
              "      <th>cidade</th>\n",
              "      <th>m2Aprox</th>\n",
              "      <th>4mm</th>\n",
              "      <th>3mm</th>\n",
              "      <th>$4mm</th>\n",
              "      <th>$3mm</th>\n",
              "    </tr>\n",
              "  </thead>\n",
              "  <tbody>\n",
              "    <tr>\n",
              "      <th>0</th>\n",
              "      <td>1</td>\n",
              "      <td>58.652928</td>\n",
              "      <td>18054.0</td>\n",
              "      <td>15045.00000</td>\n",
              "      <td>297.782896</td>\n",
              "      <td>256.508935</td>\n",
              "    </tr>\n",
              "    <tr>\n",
              "      <th>1</th>\n",
              "      <td>1</td>\n",
              "      <td>148.766748</td>\n",
              "      <td>45000.0</td>\n",
              "      <td>38160.00000</td>\n",
              "      <td>297.782896</td>\n",
              "      <td>256.508935</td>\n",
              "    </tr>\n",
              "    <tr>\n",
              "      <th>2</th>\n",
              "      <td>1</td>\n",
              "      <td>17.855129</td>\n",
              "      <td>5000.0</td>\n",
              "      <td>4580.00000</td>\n",
              "      <td>297.782896</td>\n",
              "      <td>256.508935</td>\n",
              "    </tr>\n",
              "    <tr>\n",
              "      <th>3</th>\n",
              "      <td>1</td>\n",
              "      <td>120.552592</td>\n",
              "      <td>35898.5</td>\n",
              "      <td>30922.81693</td>\n",
              "      <td>297.782896</td>\n",
              "      <td>256.508935</td>\n",
              "    </tr>\n",
              "    <tr>\n",
              "      <th>4</th>\n",
              "      <td>1</td>\n",
              "      <td>14.619374</td>\n",
              "      <td>4375.0</td>\n",
              "      <td>3750.00000</td>\n",
              "      <td>297.782896</td>\n",
              "      <td>256.508935</td>\n",
              "    </tr>\n",
              "  </tbody>\n",
              "</table>\n",
              "</div>"
            ],
            "text/plain": [
              "   cidade     m2Aprox      4mm          3mm        $4mm        $3mm\n",
              "0       1   58.652928  18054.0  15045.00000  297.782896  256.508935\n",
              "1       1  148.766748  45000.0  38160.00000  297.782896  256.508935\n",
              "2       1   17.855129   5000.0   4580.00000  297.782896  256.508935\n",
              "3       1  120.552592  35898.5  30922.81693  297.782896  256.508935\n",
              "4       1   14.619374   4375.0   3750.00000  297.782896  256.508935"
            ]
          },
          "metadata": {
            "tags": []
          },
          "execution_count": 274
        }
      ]
    },
    {
      "metadata": {
        "id": "u1_B8hLD8C9w",
        "colab_type": "code",
        "colab": {
          "base_uri": "https://localhost:8080/",
          "height": 34
        },
        "outputId": "c1e3e13c-38b3-4267-fb5a-53ada6b3fe69"
      },
      "cell_type": "code",
      "source": [
        "joinville.shape"
      ],
      "execution_count": 275,
      "outputs": [
        {
          "output_type": "execute_result",
          "data": {
            "text/plain": [
              "(95, 6)"
            ]
          },
          "metadata": {
            "tags": []
          },
          "execution_count": 275
        }
      ]
    },
    {
      "metadata": {
        "id": "7kEWB47VDg8L",
        "colab_type": "code",
        "colab": {
          "base_uri": "https://localhost:8080/",
          "height": 218
        },
        "outputId": "1a5e4a6b-9092-4708-c35d-31e0535bfaa3"
      },
      "cell_type": "code",
      "source": [
        "mydf = joinville.astype('int64')\n",
        "print(mydf.info()) # Overview of dataset"
      ],
      "execution_count": 276,
      "outputs": [
        {
          "output_type": "stream",
          "text": [
            "<class 'pandas.core.frame.DataFrame'>\n",
            "Int64Index: 95 entries, 0 to 94\n",
            "Data columns (total 6 columns):\n",
            "cidade     95 non-null int64\n",
            "m2Aprox    95 non-null int64\n",
            "4mm        95 non-null int64\n",
            "3mm        95 non-null int64\n",
            "$4mm       95 non-null int64\n",
            "$3mm       95 non-null int64\n",
            "dtypes: int64(6)\n",
            "memory usage: 5.2 KB\n",
            "None\n"
          ],
          "name": "stdout"
        }
      ]
    },
    {
      "metadata": {
        "id": "pdW3apLUy_RX",
        "colab_type": "code",
        "colab": {
          "base_uri": "https://localhost:8080/",
          "height": 34
        },
        "outputId": "d91a424e-ccf1-412d-f6a9-78987d2405b5"
      },
      "cell_type": "code",
      "source": [
        "df_joinville = mydf[['m2Aprox']]\n",
        "y = mydf[['3mm']]\n",
        "\n",
        "# create training and testing vars\n",
        "X_train, X_test, y_train, y_test = train_test_split(df_joinville, y, test_size=0.20)\n",
        "print(X_train.shape, y_train.shape)"
      ],
      "execution_count": 277,
      "outputs": [
        {
          "output_type": "stream",
          "text": [
            "((76, 1), (76, 1))\n"
          ],
          "name": "stdout"
        }
      ]
    },
    {
      "metadata": {
        "id": "zMSxriQ8zNnF",
        "colab_type": "code",
        "colab": {}
      },
      "cell_type": "code",
      "source": [
        "from sklearn.neural_network import MLPRegressor"
      ],
      "execution_count": 0,
      "outputs": []
    },
    {
      "metadata": {
        "id": "CYJ_ou33Etev",
        "colab_type": "code",
        "colab": {}
      },
      "cell_type": "code",
      "source": [
        "clf = MLPRegressor(solver='lbfgs',\n",
        "                    hidden_layer_sizes=(10,),random_state=1)"
      ],
      "execution_count": 0,
      "outputs": []
    },
    {
      "metadata": {
        "id": "UbU0GXywFCKs",
        "colab_type": "code",
        "colab": {
          "base_uri": "https://localhost:8080/",
          "height": 134
        },
        "outputId": "a9ea991b-632a-4984-d77b-19ef25872d5d"
      },
      "cell_type": "code",
      "source": [
        "clf.fit(X_train, y_train)"
      ],
      "execution_count": 280,
      "outputs": [
        {
          "output_type": "execute_result",
          "data": {
            "text/plain": [
              "MLPRegressor(activation='relu', alpha=0.0001, batch_size='auto', beta_1=0.9,\n",
              "       beta_2=0.999, early_stopping=False, epsilon=1e-08,\n",
              "       hidden_layer_sizes=(10,), learning_rate='constant',\n",
              "       learning_rate_init=0.001, max_iter=200, momentum=0.9,\n",
              "       nesterovs_momentum=True, power_t=0.5, random_state=1, shuffle=True,\n",
              "       solver='lbfgs', tol=0.0001, validation_fraction=0.1, verbose=False,\n",
              "       warm_start=False)"
            ]
          },
          "metadata": {
            "tags": []
          },
          "execution_count": 280
        }
      ]
    },
    {
      "metadata": {
        "id": "95lTmFUxFn8x",
        "colab_type": "code",
        "colab": {}
      },
      "cell_type": "code",
      "source": [
        "predictions = clf.predict(X_test)"
      ],
      "execution_count": 0,
      "outputs": []
    },
    {
      "metadata": {
        "id": "JV5FScztTkZ1",
        "colab_type": "code",
        "colab": {
          "base_uri": "https://localhost:8080/",
          "height": 610
        },
        "outputId": "6835ba72-9d0e-408c-ded2-e4982e0899ad"
      },
      "cell_type": "code",
      "source": [
        "buildCompareT = {'m2Aprox': X_test['m2Aprox'], \n",
        "                 'yTest': y_test['3mm'], \n",
        "                 'yPredicted':predictions.astype('int64')}\n",
        "\n",
        "compareT = pd.DataFrame(data=buildCompareT)\n",
        "compareT"
      ],
      "execution_count": 282,
      "outputs": [
        {
          "output_type": "execute_result",
          "data": {
            "text/html": [
              "<div>\n",
              "<style scoped>\n",
              "    .dataframe tbody tr th:only-of-type {\n",
              "        vertical-align: middle;\n",
              "    }\n",
              "\n",
              "    .dataframe tbody tr th {\n",
              "        vertical-align: top;\n",
              "    }\n",
              "\n",
              "    .dataframe thead th {\n",
              "        text-align: right;\n",
              "    }\n",
              "</style>\n",
              "<table border=\"1\" class=\"dataframe\">\n",
              "  <thead>\n",
              "    <tr style=\"text-align: right;\">\n",
              "      <th></th>\n",
              "      <th>m2Aprox</th>\n",
              "      <th>yPredicted</th>\n",
              "      <th>yTest</th>\n",
              "    </tr>\n",
              "  </thead>\n",
              "  <tbody>\n",
              "    <tr>\n",
              "      <th>7</th>\n",
              "      <td>61</td>\n",
              "      <td>15731</td>\n",
              "      <td>15852</td>\n",
              "    </tr>\n",
              "    <tr>\n",
              "      <th>1</th>\n",
              "      <td>148</td>\n",
              "      <td>38450</td>\n",
              "      <td>38160</td>\n",
              "    </tr>\n",
              "    <tr>\n",
              "      <th>48</th>\n",
              "      <td>22</td>\n",
              "      <td>5547</td>\n",
              "      <td>5850</td>\n",
              "    </tr>\n",
              "    <tr>\n",
              "      <th>80</th>\n",
              "      <td>1370</td>\n",
              "      <td>357553</td>\n",
              "      <td>351417</td>\n",
              "    </tr>\n",
              "    <tr>\n",
              "      <th>21</th>\n",
              "      <td>181</td>\n",
              "      <td>47067</td>\n",
              "      <td>38372</td>\n",
              "    </tr>\n",
              "    <tr>\n",
              "      <th>76</th>\n",
              "      <td>1370</td>\n",
              "      <td>357553</td>\n",
              "      <td>351417</td>\n",
              "    </tr>\n",
              "    <tr>\n",
              "      <th>32</th>\n",
              "      <td>85</td>\n",
              "      <td>21998</td>\n",
              "      <td>21965</td>\n",
              "    </tr>\n",
              "    <tr>\n",
              "      <th>5</th>\n",
              "      <td>141</td>\n",
              "      <td>36622</td>\n",
              "      <td>36366</td>\n",
              "    </tr>\n",
              "    <tr>\n",
              "      <th>52</th>\n",
              "      <td>13</td>\n",
              "      <td>3197</td>\n",
              "      <td>3380</td>\n",
              "    </tr>\n",
              "    <tr>\n",
              "      <th>12</th>\n",
              "      <td>235</td>\n",
              "      <td>61168</td>\n",
              "      <td>60279</td>\n",
              "    </tr>\n",
              "    <tr>\n",
              "      <th>69</th>\n",
              "      <td>112</td>\n",
              "      <td>29049</td>\n",
              "      <td>28125</td>\n",
              "    </tr>\n",
              "    <tr>\n",
              "      <th>34</th>\n",
              "      <td>143</td>\n",
              "      <td>37144</td>\n",
              "      <td>36880</td>\n",
              "    </tr>\n",
              "    <tr>\n",
              "      <th>55</th>\n",
              "      <td>24</td>\n",
              "      <td>6069</td>\n",
              "      <td>5612</td>\n",
              "    </tr>\n",
              "    <tr>\n",
              "      <th>87</th>\n",
              "      <td>17</td>\n",
              "      <td>4241</td>\n",
              "      <td>4799</td>\n",
              "    </tr>\n",
              "    <tr>\n",
              "      <th>8</th>\n",
              "      <td>358</td>\n",
              "      <td>93287</td>\n",
              "      <td>91976</td>\n",
              "    </tr>\n",
              "    <tr>\n",
              "      <th>19</th>\n",
              "      <td>105</td>\n",
              "      <td>27221</td>\n",
              "      <td>30253</td>\n",
              "    </tr>\n",
              "    <tr>\n",
              "      <th>66</th>\n",
              "      <td>220</td>\n",
              "      <td>57251</td>\n",
              "      <td>56431</td>\n",
              "    </tr>\n",
              "    <tr>\n",
              "      <th>68</th>\n",
              "      <td>116</td>\n",
              "      <td>30093</td>\n",
              "      <td>30000</td>\n",
              "    </tr>\n",
              "    <tr>\n",
              "      <th>92</th>\n",
              "      <td>624</td>\n",
              "      <td>162748</td>\n",
              "      <td>160061</td>\n",
              "    </tr>\n",
              "  </tbody>\n",
              "</table>\n",
              "</div>"
            ],
            "text/plain": [
              "    m2Aprox  yPredicted   yTest\n",
              "7        61       15731   15852\n",
              "1       148       38450   38160\n",
              "48       22        5547    5850\n",
              "80     1370      357553  351417\n",
              "21      181       47067   38372\n",
              "76     1370      357553  351417\n",
              "32       85       21998   21965\n",
              "5       141       36622   36366\n",
              "52       13        3197    3380\n",
              "12      235       61168   60279\n",
              "69      112       29049   28125\n",
              "34      143       37144   36880\n",
              "55       24        6069    5612\n",
              "87       17        4241    4799\n",
              "8       358       93287   91976\n",
              "19      105       27221   30253\n",
              "66      220       57251   56431\n",
              "68      116       30093   30000\n",
              "92      624      162748  160061"
            ]
          },
          "metadata": {
            "tags": []
          },
          "execution_count": 282
        }
      ]
    },
    {
      "metadata": {
        "id": "I4VtGKzQWa3m",
        "colab_type": "code",
        "colab": {
          "base_uri": "https://localhost:8080/",
          "height": 378
        },
        "outputId": "7fcbef3a-74fb-4a25-813e-3f24993f8be2"
      },
      "cell_type": "code",
      "source": [
        "plt.scatter(y_test.values, predictions)\n",
        "plt.xlabel('True Values')\n",
        "plt.ylabel('Predictions')"
      ],
      "execution_count": 283,
      "outputs": [
        {
          "output_type": "execute_result",
          "data": {
            "text/plain": [
              "Text(0,0.5,u'Predictions')"
            ]
          },
          "metadata": {
            "tags": []
          },
          "execution_count": 283
        },
        {
          "output_type": "display_data",
          "data": {
            "image/png": "[encoded data removed]",
            "text/plain": [
              "<matplotlib.figure.Figure at 0x7fc8f3228fd0>"
            ]
          },
          "metadata": {
            "tags": []
          }
        }
      ]
    },
    {
      "metadata": {
        "id": "9_1xHtZlaohh",
        "colab_type": "code",
        "colab": {}
      },
      "cell_type": "code",
      "source": [
        ""
      ],
      "execution_count": 0,
      "outputs": []
    },
    {
      "metadata": {
        "id": "KPrpYUIZ6qEl",
        "colab_type": "code",
        "colab": {
          "base_uri": "https://localhost:8080/",
          "height": 50
        },
        "outputId": "7f170b60-63ee-41da-a759-ef6bb85e61e2"
      },
      "cell_type": "code",
      "source": [
        "\"\"\"\n",
        "Regression metrics\n",
        "See the Regression metrics section of the user guide for further details.\n",
        "\n",
        "metrics.explained_variance_score(y_true, y_pred)\tExplained variance regression score function\n",
        "metrics.mean_absolute_error(y_true, y_pred)\tMean absolute error regression loss\n",
        "metrics.mean_squared_error(y_true, y_pred[, …])\tMean squared error regression loss\n",
        "metrics.mean_squared_log_error(y_true, y_pred)\tMean squared logarithmic error regression loss\n",
        "metrics.median_absolute_error(y_true, y_pred)\tMedian absolute error regression loss\n",
        "metrics.r2_score(y_true, y_pred[, …])\tR^2 (coefficient of determination) regression score function.\n",
        "\"\"\"\n",
        "from sklearn.metrics import explained_variance_score\n",
        "from sklearn.metrics import mean_absolute_error\n",
        "from sklearn.metrics import mean_squared_error\n",
        "from sklearn.metrics import mean_squared_log_error\n",
        "from sklearn.metrics import median_absolute_error\n",
        "from sklearn.metrics import r2_score\n",
        "\n",
        "print 'explained_variance_score: '\n",
        "explained_variance_score(y_test, predictions)\n"
      ],
      "execution_count": 284,
      "outputs": [
        {
          "output_type": "stream",
          "text": [
            "explained_variance_score: \n"
          ],
          "name": "stdout"
        },
        {
          "output_type": "execute_result",
          "data": {
            "text/plain": [
              "0.9992955347488253"
            ]
          },
          "metadata": {
            "tags": []
          },
          "execution_count": 284
        }
      ]
    },
    {
      "metadata": {
        "id": "ciCqblSW8Yr6",
        "colab_type": "code",
        "colab": {
          "base_uri": "https://localhost:8080/",
          "height": 50
        },
        "outputId": "3390e9a6-ef78-4c1b-d666-66b0c3020d16"
      },
      "cell_type": "code",
      "source": [
        "\n",
        "print 'mean_absolute_error: '\n",
        "mean_absolute_error(y_test, predictions)\n",
        "\n"
      ],
      "execution_count": 285,
      "outputs": [
        {
          "output_type": "stream",
          "text": [
            "mean_absolute_error: \n"
          ],
          "name": "stdout"
        },
        {
          "output_type": "execute_result",
          "data": {
            "text/plain": [
              "1746.9944116811705"
            ]
          },
          "metadata": {
            "tags": []
          },
          "execution_count": 285
        }
      ]
    },
    {
      "metadata": {
        "id": "sMkdUWqQ9nyo",
        "colab_type": "code",
        "colab": {
          "base_uri": "https://localhost:8080/",
          "height": 50
        },
        "outputId": "c8e5882d-5a05-4ccb-f59f-136e2e331a51"
      },
      "cell_type": "code",
      "source": [
        "\n",
        "print 'mean_squared_error: '\n",
        "mean_squared_error(y_test, predictions)\n",
        "\n"
      ],
      "execution_count": 286,
      "outputs": [
        {
          "output_type": "stream",
          "text": [
            "mean_squared_error: \n"
          ],
          "name": "stdout"
        },
        {
          "output_type": "execute_result",
          "data": {
            "text/plain": [
              "9066358.84577401"
            ]
          },
          "metadata": {
            "tags": []
          },
          "execution_count": 286
        }
      ]
    },
    {
      "metadata": {
        "id": "a2dmiCie9oJD",
        "colab_type": "code",
        "colab": {
          "base_uri": "https://localhost:8080/",
          "height": 50
        },
        "outputId": "bc03c282-d05f-4b3f-8587-2599aa7adda9"
      },
      "cell_type": "code",
      "source": [
        "print 'median_absolute_error: '\n",
        "median_absolute_error(y_test, predictions)\n",
        "\n"
      ],
      "execution_count": 287,
      "outputs": [
        {
          "output_type": "stream",
          "text": [
            "median_absolute_error: \n"
          ],
          "name": "stdout"
        },
        {
          "output_type": "execute_result",
          "data": {
            "text/plain": [
              "557.0431122436657"
            ]
          },
          "metadata": {
            "tags": []
          },
          "execution_count": 287
        }
      ]
    },
    {
      "metadata": {
        "id": "GAtfCwJJ9p53",
        "colab_type": "code",
        "colab": {
          "base_uri": "https://localhost:8080/",
          "height": 50
        },
        "outputId": "a144cc55-cd23-4028-f447-8c41aa17c874"
      },
      "cell_type": "code",
      "source": [
        "print 'r2_score: '\n",
        "r2_score(y_test, predictions)"
      ],
      "execution_count": 288,
      "outputs": [
        {
          "output_type": "stream",
          "text": [
            "r2_score: \n"
          ],
          "name": "stdout"
        },
        {
          "output_type": "execute_result",
          "data": {
            "text/plain": [
              "0.9991324330327201"
            ]
          },
          "metadata": {
            "tags": []
          },
          "execution_count": 288
        }
      ]
    }
  ]
}