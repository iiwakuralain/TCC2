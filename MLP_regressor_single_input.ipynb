{
  "nbformat": 4,
  "nbformat_minor": 0,
  "metadata": {
    "colab": {
      "name": "MLP_regressor_single_input.ipynb",
      "version": "0.3.2",
      "provenance": [],
      "collapsed_sections": [],
      "include_colab_link": true
    }
  },
  "cells": [
    {
      "cell_type": "markdown",
      "metadata": {
        "id": "view-in-github",
        "colab_type": "text"
      },
      "source": [
        "[View in Colaboratory](https://colab.research.google.com/github/iiwakuralain/TCC2/blob/master/MLP_regressor_single_input.ipynb)"
      ]
    },
    {
      "metadata": {
        "id": "8YKkRBB65iaf",
        "colab_type": "code",
        "colab": {
          "base_uri": "https://localhost:8080/",
          "height": 37
        },
        "outputId": "a3e4c487-8aea-47e1-ef73-a1b1f7912670"
      },
      "cell_type": "code",
      "source": [
        "import pandas as pd\n",
        "from sklearn import datasets, linear_model\n",
        "from sklearn.model_selection import train_test_split\n",
        "from matplotlib import pyplot as plt"
      ],
      "execution_count": 146,
      "outputs": []
    },
    {
      "metadata": {
        "id": "8rgYQI4iDiM0",
        "colab_type": "code",
        "colab": {
          "base_uri": "https://localhost:8080/",
          "height": 101
        },
        "outputId": "3e9d4b79-84d3-4636-a023-bd47e956567a"
      },
      "cell_type": "code",
      "source": [
        "!pip install -q xlrd\n",
        "!git clone https://github.com/iiwakuralain/TCC2"
      ],
      "execution_count": 147,
      "outputs": [
        {
          "output_type": "stream",
          "text": [
            "Cloning into 'TCC2'...\n",
            "remote: Counting objects: 91, done.\u001b[K\n",
            "remote: Compressing objects: 100% (81/81), done.\u001b[K\n",
            "remote: Total 91 (delta 42), reused 31 (delta 9), pack-reused 0\u001b[K\n",
            "Unpacking objects: 100% (91/91), done.\n"
          ],
          "name": "stdout"
        }
      ]
    },
    {
      "metadata": {
        "id": "W2Z935poDyda",
        "colab_type": "code",
        "colab": {
          "base_uri": "https://localhost:8080/",
          "height": 34
        },
        "outputId": "f77145a2-8791-4af2-dc2d-c60b8c50bb7d"
      },
      "cell_type": "code",
      "source": [
        "cd TCC2"
      ],
      "execution_count": 148,
      "outputs": [
        {
          "output_type": "stream",
          "text": [
            "/content/TCC2/TCC2/TCC2/TCC2/TCC2/TCC2/TCC2\n"
          ],
          "name": "stdout"
        }
      ]
    },
    {
      "metadata": {
        "id": "J_gWebIHDy1R",
        "colab_type": "code",
        "colab": {
          "base_uri": "https://localhost:8080/",
          "height": 50
        },
        "outputId": "d2eb6dbe-c5a8-4a69-9d15-dc4ff32b0185"
      },
      "cell_type": "code",
      "source": [
        "ls"
      ],
      "execution_count": 149,
      "outputs": [
        {
          "output_type": "stream",
          "text": [
            "db_ok.csv     MLP_regressor_multi_input.ipynb\r\n",
            "linear.ipynb  MLP_regressor_single_input.ipynb\r\n"
          ],
          "name": "stdout"
        }
      ]
    },
    {
      "metadata": {
        "id": "TCrE2MuYED3Q",
        "colab_type": "code",
        "colab": {
          "base_uri": "https://localhost:8080/",
          "height": 37
        },
        "outputId": "7d358b6f-1a85-4eea-8b27-f907ef16ed05"
      },
      "cell_type": "code",
      "source": [
        "import pandas as pd\n",
        "df = pd.read_csv('db_ok.csv')"
      ],
      "execution_count": 150,
      "outputs": []
    },
    {
      "metadata": {
        "id": "wVWlq-8s5q7v",
        "colab_type": "code",
        "colab": {
          "base_uri": "https://localhost:8080/",
          "height": 37
        },
        "outputId": "041b740f-fd1e-4893-f04d-012e089c4471"
      },
      "cell_type": "code",
      "source": [
        "import os\n",
        "os.environ['TF_CPP_MIN_LOG_LEVEL'] = '3' "
      ],
      "execution_count": 151,
      "outputs": []
    },
    {
      "metadata": {
        "id": "VGnxdn7y7uyA",
        "colab_type": "code",
        "colab": {
          "base_uri": "https://localhost:8080/",
          "height": 37
        },
        "outputId": "3a905cb6-3e7e-422e-a697-7535eac67f93"
      },
      "cell_type": "code",
      "source": [
        "joinville = df.loc[(df['cidade'] == 1)]"
      ],
      "execution_count": 152,
      "outputs": []
    },
    {
      "metadata": {
        "id": "pIzqyWb_8BO3",
        "colab_type": "code",
        "colab": {
          "base_uri": "https://localhost:8080/",
          "height": 195
        },
        "outputId": "e2c266cd-8c56-46cf-a901-ce6714e189f6"
      },
      "cell_type": "code",
      "source": [
        "joinville.head()"
      ],
      "execution_count": 153,
      "outputs": [
        {
          "output_type": "execute_result",
          "data": {
            "text/html": [
              "<div>\n",
              "<style scoped>\n",
              "    .dataframe tbody tr th:only-of-type {\n",
              "        vertical-align: middle;\n",
              "    }\n",
              "\n",
              "    .dataframe tbody tr th {\n",
              "        vertical-align: top;\n",
              "    }\n",
              "\n",
              "    .dataframe thead th {\n",
              "        text-align: right;\n",
              "    }\n",
              "</style>\n",
              "<table border=\"1\" class=\"dataframe\">\n",
              "  <thead>\n",
              "    <tr style=\"text-align: right;\">\n",
              "      <th></th>\n",
              "      <th>cidade</th>\n",
              "      <th>m2Aprox</th>\n",
              "      <th>4mm</th>\n",
              "      <th>3mm</th>\n",
              "      <th>$4mm</th>\n",
              "      <th>$3mm</th>\n",
              "    </tr>\n",
              "  </thead>\n",
              "  <tbody>\n",
              "    <tr>\n",
              "      <th>0</th>\n",
              "      <td>1</td>\n",
              "      <td>58.652928</td>\n",
              "      <td>18054.0</td>\n",
              "      <td>15045.00000</td>\n",
              "      <td>297.782896</td>\n",
              "      <td>256.508935</td>\n",
              "    </tr>\n",
              "    <tr>\n",
              "      <th>1</th>\n",
              "      <td>1</td>\n",
              "      <td>148.766748</td>\n",
              "      <td>45000.0</td>\n",
              "      <td>38160.00000</td>\n",
              "      <td>297.782896</td>\n",
              "      <td>256.508935</td>\n",
              "    </tr>\n",
              "    <tr>\n",
              "      <th>2</th>\n",
              "      <td>1</td>\n",
              "      <td>17.855129</td>\n",
              "      <td>5000.0</td>\n",
              "      <td>4580.00000</td>\n",
              "      <td>297.782896</td>\n",
              "      <td>256.508935</td>\n",
              "    </tr>\n",
              "    <tr>\n",
              "      <th>3</th>\n",
              "      <td>1</td>\n",
              "      <td>120.552592</td>\n",
              "      <td>35898.5</td>\n",
              "      <td>30922.81693</td>\n",
              "      <td>297.782896</td>\n",
              "      <td>256.508935</td>\n",
              "    </tr>\n",
              "    <tr>\n",
              "      <th>4</th>\n",
              "      <td>1</td>\n",
              "      <td>14.619374</td>\n",
              "      <td>4375.0</td>\n",
              "      <td>3750.00000</td>\n",
              "      <td>297.782896</td>\n",
              "      <td>256.508935</td>\n",
              "    </tr>\n",
              "  </tbody>\n",
              "</table>\n",
              "</div>"
            ],
            "text/plain": [
              "   cidade     m2Aprox      4mm          3mm        $4mm        $3mm\n",
              "0       1   58.652928  18054.0  15045.00000  297.782896  256.508935\n",
              "1       1  148.766748  45000.0  38160.00000  297.782896  256.508935\n",
              "2       1   17.855129   5000.0   4580.00000  297.782896  256.508935\n",
              "3       1  120.552592  35898.5  30922.81693  297.782896  256.508935\n",
              "4       1   14.619374   4375.0   3750.00000  297.782896  256.508935"
            ]
          },
          "metadata": {
            "tags": []
          },
          "execution_count": 153
        }
      ]
    },
    {
      "metadata": {
        "id": "u1_B8hLD8C9w",
        "colab_type": "code",
        "colab": {
          "base_uri": "https://localhost:8080/",
          "height": 34
        },
        "outputId": "70a80e1b-1b4e-4f2d-bb7e-2f259b86ae45"
      },
      "cell_type": "code",
      "source": [
        "joinville.shape"
      ],
      "execution_count": 154,
      "outputs": [
        {
          "output_type": "execute_result",
          "data": {
            "text/plain": [
              "(95, 6)"
            ]
          },
          "metadata": {
            "tags": []
          },
          "execution_count": 154
        }
      ]
    },
    {
      "metadata": {
        "id": "7kEWB47VDg8L",
        "colab_type": "code",
        "colab": {
          "base_uri": "https://localhost:8080/",
          "height": 218
        },
        "outputId": "cee64a58-f277-4cf4-d836-305fc400e6b5"
      },
      "cell_type": "code",
      "source": [
        "mydf = joinville.astype('int64')\n",
        "print(mydf.info()) # Overview of dataset"
      ],
      "execution_count": 155,
      "outputs": [
        {
          "output_type": "stream",
          "text": [
            "<class 'pandas.core.frame.DataFrame'>\n",
            "Int64Index: 95 entries, 0 to 94\n",
            "Data columns (total 6 columns):\n",
            "cidade     95 non-null int64\n",
            "m2Aprox    95 non-null int64\n",
            "4mm        95 non-null int64\n",
            "3mm        95 non-null int64\n",
            "$4mm       95 non-null int64\n",
            "$3mm       95 non-null int64\n",
            "dtypes: int64(6)\n",
            "memory usage: 5.2 KB\n",
            "None\n"
          ],
          "name": "stdout"
        }
      ]
    },
    {
      "metadata": {
        "id": "pdW3apLUy_RX",
        "colab_type": "code",
        "colab": {
          "base_uri": "https://localhost:8080/",
          "height": 34
        },
        "outputId": "75332886-e8f9-49a3-e636-9df2a955e89b"
      },
      "cell_type": "code",
      "source": [
        "df_joinville = mydf[['m2Aprox']]\n",
        "y = mydf[['3mm']]\n",
        "\n",
        "# create training and testing vars\n",
        "X_train, X_test, y_train, y_test = train_test_split(df_joinville, y, test_size=0.20)\n",
        "print(X_train.shape, y_train.shape)"
      ],
      "execution_count": 156,
      "outputs": [
        {
          "output_type": "stream",
          "text": [
            "((76, 1), (76, 1))\n"
          ],
          "name": "stdout"
        }
      ]
    },
    {
      "metadata": {
        "id": "zMSxriQ8zNnF",
        "colab_type": "code",
        "colab": {
          "base_uri": "https://localhost:8080/",
          "height": 37
        },
        "outputId": "9e17eed3-665e-4db7-8f8a-99c8078ba96d"
      },
      "cell_type": "code",
      "source": [
        "from sklearn.neural_network import MLPRegressor"
      ],
      "execution_count": 157,
      "outputs": []
    },
    {
      "metadata": {
        "id": "CYJ_ou33Etev",
        "colab_type": "code",
        "colab": {
          "base_uri": "https://localhost:8080/",
          "height": 37
        },
        "outputId": "58f02ce4-db74-4eaf-f898-37a722848cef"
      },
      "cell_type": "code",
      "source": [
        "clf = MLPRegressor(solver='lbfgs',\n",
        "                    hidden_layer_sizes=(100),random_state=1)"
      ],
      "execution_count": 158,
      "outputs": []
    },
    {
      "metadata": {
        "id": "UbU0GXywFCKs",
        "colab_type": "code",
        "colab": {
          "base_uri": "https://localhost:8080/",
          "height": 134
        },
        "outputId": "369d3632-99e6-4bf4-f6cb-a36b074d9e34"
      },
      "cell_type": "code",
      "source": [
        "clf.fit(X_train, y_train)"
      ],
      "execution_count": 159,
      "outputs": [
        {
          "output_type": "execute_result",
          "data": {
            "text/plain": [
              "MLPRegressor(activation='relu', alpha=0.0001, batch_size='auto', beta_1=0.9,\n",
              "       beta_2=0.999, early_stopping=False, epsilon=1e-08,\n",
              "       hidden_layer_sizes=100, learning_rate='constant',\n",
              "       learning_rate_init=0.001, max_iter=200, momentum=0.9,\n",
              "       nesterovs_momentum=True, power_t=0.5, random_state=1, shuffle=True,\n",
              "       solver='lbfgs', tol=0.0001, validation_fraction=0.1, verbose=False,\n",
              "       warm_start=False)"
            ]
          },
          "metadata": {
            "tags": []
          },
          "execution_count": 159
        }
      ]
    },
    {
      "metadata": {
        "id": "95lTmFUxFn8x",
        "colab_type": "code",
        "colab": {
          "base_uri": "https://localhost:8080/",
          "height": 37
        },
        "outputId": "8a39b80c-a765-4780-82fc-da8f2b4c5c94"
      },
      "cell_type": "code",
      "source": [
        "predictions = clf.predict(X_test)"
      ],
      "execution_count": 160,
      "outputs": []
    },
    {
      "metadata": {
        "id": "72M0sbL77FvQ",
        "colab_type": "code",
        "colab": {}
      },
      "cell_type": "code",
      "source": [
        ""
      ],
      "execution_count": 0,
      "outputs": []
    },
    {
      "metadata": {
        "id": "JV5FScztTkZ1",
        "colab_type": "code",
        "colab": {
          "base_uri": "https://localhost:8080/",
          "height": 610
        },
        "outputId": "abf42766-28dc-43dd-9f80-686b66e8602e"
      },
      "cell_type": "code",
      "source": [
        "buildCompareT = {'m2Aprox': X_test['m2Aprox'], \n",
        "                 'yTest': y_test['3mm'], \n",
        "                 'yPredicted':predictions.astype('int64')}\n",
        "\n",
        "compareT = pd.DataFrame(data=buildCompareT)\n",
        "compareT"
      ],
      "execution_count": 161,
      "outputs": [
        {
          "output_type": "execute_result",
          "data": {
            "text/html": [
              "<div>\n",
              "<style scoped>\n",
              "    .dataframe tbody tr th:only-of-type {\n",
              "        vertical-align: middle;\n",
              "    }\n",
              "\n",
              "    .dataframe tbody tr th {\n",
              "        vertical-align: top;\n",
              "    }\n",
              "\n",
              "    .dataframe thead th {\n",
              "        text-align: right;\n",
              "    }\n",
              "</style>\n",
              "<table border=\"1\" class=\"dataframe\">\n",
              "  <thead>\n",
              "    <tr style=\"text-align: right;\">\n",
              "      <th></th>\n",
              "      <th>m2Aprox</th>\n",
              "      <th>yPredicted</th>\n",
              "      <th>yTest</th>\n",
              "    </tr>\n",
              "  </thead>\n",
              "  <tbody>\n",
              "    <tr>\n",
              "      <th>69</th>\n",
              "      <td>112</td>\n",
              "      <td>28741</td>\n",
              "      <td>28125</td>\n",
              "    </tr>\n",
              "    <tr>\n",
              "      <th>7</th>\n",
              "      <td>61</td>\n",
              "      <td>15459</td>\n",
              "      <td>15852</td>\n",
              "    </tr>\n",
              "    <tr>\n",
              "      <th>83</th>\n",
              "      <td>13</td>\n",
              "      <td>2958</td>\n",
              "      <td>3400</td>\n",
              "    </tr>\n",
              "    <tr>\n",
              "      <th>62</th>\n",
              "      <td>122</td>\n",
              "      <td>31345</td>\n",
              "      <td>30500</td>\n",
              "    </tr>\n",
              "    <tr>\n",
              "      <th>5</th>\n",
              "      <td>141</td>\n",
              "      <td>36293</td>\n",
              "      <td>36366</td>\n",
              "    </tr>\n",
              "    <tr>\n",
              "      <th>2</th>\n",
              "      <td>17</td>\n",
              "      <td>4000</td>\n",
              "      <td>4580</td>\n",
              "    </tr>\n",
              "    <tr>\n",
              "      <th>17</th>\n",
              "      <td>28</td>\n",
              "      <td>6865</td>\n",
              "      <td>7317</td>\n",
              "    </tr>\n",
              "    <tr>\n",
              "      <th>63</th>\n",
              "      <td>115</td>\n",
              "      <td>29522</td>\n",
              "      <td>29498</td>\n",
              "    </tr>\n",
              "    <tr>\n",
              "      <th>23</th>\n",
              "      <td>792</td>\n",
              "      <td>205849</td>\n",
              "      <td>203308</td>\n",
              "    </tr>\n",
              "    <tr>\n",
              "      <th>51</th>\n",
              "      <td>82</td>\n",
              "      <td>20928</td>\n",
              "      <td>34875</td>\n",
              "    </tr>\n",
              "    <tr>\n",
              "      <th>68</th>\n",
              "      <td>116</td>\n",
              "      <td>29782</td>\n",
              "      <td>30000</td>\n",
              "    </tr>\n",
              "    <tr>\n",
              "      <th>16</th>\n",
              "      <td>667</td>\n",
              "      <td>173292</td>\n",
              "      <td>171219</td>\n",
              "    </tr>\n",
              "    <tr>\n",
              "      <th>15</th>\n",
              "      <td>6</td>\n",
              "      <td>1136</td>\n",
              "      <td>1621</td>\n",
              "    </tr>\n",
              "    <tr>\n",
              "      <th>56</th>\n",
              "      <td>108</td>\n",
              "      <td>27699</td>\n",
              "      <td>27779</td>\n",
              "    </tr>\n",
              "    <tr>\n",
              "      <th>86</th>\n",
              "      <td>25</td>\n",
              "      <td>6084</td>\n",
              "      <td>6460</td>\n",
              "    </tr>\n",
              "    <tr>\n",
              "      <th>61</th>\n",
              "      <td>18</td>\n",
              "      <td>4261</td>\n",
              "      <td>4575</td>\n",
              "    </tr>\n",
              "    <tr>\n",
              "      <th>28</th>\n",
              "      <td>179</td>\n",
              "      <td>46189</td>\n",
              "      <td>46101</td>\n",
              "    </tr>\n",
              "    <tr>\n",
              "      <th>36</th>\n",
              "      <td>224</td>\n",
              "      <td>57910</td>\n",
              "      <td>57663</td>\n",
              "    </tr>\n",
              "    <tr>\n",
              "      <th>42</th>\n",
              "      <td>80</td>\n",
              "      <td>20407</td>\n",
              "      <td>20771</td>\n",
              "    </tr>\n",
              "  </tbody>\n",
              "</table>\n",
              "</div>"
            ],
            "text/plain": [
              "    m2Aprox  yPredicted   yTest\n",
              "69      112       28741   28125\n",
              "7        61       15459   15852\n",
              "83       13        2958    3400\n",
              "62      122       31345   30500\n",
              "5       141       36293   36366\n",
              "2        17        4000    4580\n",
              "17       28        6865    7317\n",
              "63      115       29522   29498\n",
              "23      792      205849  203308\n",
              "51       82       20928   34875\n",
              "68      116       29782   30000\n",
              "16      667      173292  171219\n",
              "15        6        1136    1621\n",
              "56      108       27699   27779\n",
              "86       25        6084    6460\n",
              "61       18        4261    4575\n",
              "28      179       46189   46101\n",
              "36      224       57910   57663\n",
              "42       80       20407   20771"
            ]
          },
          "metadata": {
            "tags": []
          },
          "execution_count": 161
        }
      ]
    },
    {
      "metadata": {
        "id": "I4VtGKzQWa3m",
        "colab_type": "code",
        "colab": {
          "base_uri": "https://localhost:8080/",
          "height": 378
        },
        "outputId": "fb5f89f4-acc0-437c-9af0-d57e3dab9a00"
      },
      "cell_type": "code",
      "source": [
        "plt.scatter(y_test.values, predictions)\n",
        "plt.xlabel('True Values')\n",
        "plt.ylabel('Predictions')"
      ],
      "execution_count": 162,
      "outputs": [
        {
          "output_type": "execute_result",
          "data": {
            "text/plain": [
              "Text(0,0.5,u'Predictions')"
            ]
          },
          "metadata": {
            "tags": []
          },
          "execution_count": 162
        },
        {
          "output_type": "display_data",
          "data": {
            "image/png": "[encoded data removed]",
            "text/plain": [
              "<matplotlib.figure.Figure at 0x7f16ea3f7b50>"
            ]
          },
          "metadata": {
            "tags": []
          }
        }
      ]
    },
    {
      "metadata": {
        "id": "9_1xHtZlaohh",
        "colab_type": "code",
        "colab": {
          "base_uri": "https://localhost:8080/",
          "height": 37
        },
        "outputId": "f0262142-1aa6-4eda-a398-b85c6bb05e51"
      },
      "cell_type": "code",
      "source": [
        ""
      ],
      "execution_count": 162,
      "outputs": []
    },
    {
      "metadata": {
        "id": "KPrpYUIZ6qEl",
        "colab_type": "code",
        "colab": {
          "base_uri": "https://localhost:8080/",
          "height": 50
        },
        "outputId": "d4ed6f1e-1f95-4a9d-badf-13039174e684"
      },
      "cell_type": "code",
      "source": [
        "\"\"\"\n",
        "Regression metrics\n",
        "See the Regression metrics section of the user guide for further details.\n",
        "\n",
        "metrics.explained_variance_score(y_true, y_pred)\tExplained variance regression score function\n",
        "metrics.mean_absolute_error(y_true, y_pred)\tMean absolute error regression loss\n",
        "metrics.mean_squared_error(y_true, y_pred[, …])\tMean squared error regression loss\n",
        "metrics.mean_squared_log_error(y_true, y_pred)\tMean squared logarithmic error regression loss\n",
        "metrics.median_absolute_error(y_true, y_pred)\tMedian absolute error regression loss\n",
        "metrics.r2_score(y_true, y_pred[, …])\tR^2 (coefficient of determination) regression score function.\n",
        "\"\"\"\n",
        "from sklearn.metrics import explained_variance_score\n",
        "from sklearn.metrics import mean_absolute_error\n",
        "from sklearn.metrics import mean_squared_error\n",
        "from sklearn.metrics import mean_squared_log_error\n",
        "from sklearn.metrics import median_absolute_error\n",
        "from sklearn.metrics import r2_score\n",
        "\n",
        "print 'explained_variance_score: '\n",
        "explained_variance_score(y_test, predictions)\n"
      ],
      "execution_count": 163,
      "outputs": [
        {
          "output_type": "stream",
          "text": [
            "explained_variance_score: \n"
          ],
          "name": "stdout"
        },
        {
          "output_type": "execute_result",
          "data": {
            "text/plain": [
              "0.9962260780750334"
            ]
          },
          "metadata": {
            "tags": []
          },
          "execution_count": 163
        }
      ]
    },
    {
      "metadata": {
        "id": "ciCqblSW8Yr6",
        "colab_type": "code",
        "colab": {
          "base_uri": "https://localhost:8080/",
          "height": 50
        },
        "outputId": "79909d63-15b5-4213-839e-83fcd65a126b"
      },
      "cell_type": "code",
      "source": [
        "\n",
        "print 'mean_absolute_error: '\n",
        "mean_absolute_error(y_test, predictions)\n",
        "\n"
      ],
      "execution_count": 164,
      "outputs": [
        {
          "output_type": "stream",
          "text": [
            "mean_absolute_error: \n"
          ],
          "name": "stdout"
        },
        {
          "output_type": "execute_result",
          "data": {
            "text/plain": [
              "1271.2968914124217"
            ]
          },
          "metadata": {
            "tags": []
          },
          "execution_count": 164
        }
      ]
    },
    {
      "metadata": {
        "id": "sMkdUWqQ9nyo",
        "colab_type": "code",
        "colab": {
          "base_uri": "https://localhost:8080/",
          "height": 50
        },
        "outputId": "3a7592af-63e8-4fef-d75a-a5d84145f88d"
      },
      "cell_type": "code",
      "source": [
        "\n",
        "print 'mean_squared_error: '\n",
        "mean_squared_error(y_test, predictions)\n",
        "\n"
      ],
      "execution_count": 165,
      "outputs": [
        {
          "output_type": "stream",
          "text": [
            "mean_squared_error: \n"
          ],
          "name": "stdout"
        },
        {
          "output_type": "execute_result",
          "data": {
            "text/plain": [
              "10946510.787315503"
            ]
          },
          "metadata": {
            "tags": []
          },
          "execution_count": 165
        }
      ]
    },
    {
      "metadata": {
        "id": "a2dmiCie9oJD",
        "colab_type": "code",
        "colab": {
          "base_uri": "https://localhost:8080/",
          "height": 50
        },
        "outputId": "dff7e8bc-694d-418b-e728-a9c815940f6f"
      },
      "cell_type": "code",
      "source": [
        "print 'median_absolute_error: '\n",
        "median_absolute_error(y_test, predictions)\n",
        "\n"
      ],
      "execution_count": 166,
      "outputs": [
        {
          "output_type": "stream",
          "text": [
            "median_absolute_error: \n"
          ],
          "name": "stdout"
        },
        {
          "output_type": "execute_result",
          "data": {
            "text/plain": [
              "392.59418515463403"
            ]
          },
          "metadata": {
            "tags": []
          },
          "execution_count": 166
        }
      ]
    },
    {
      "metadata": {
        "id": "GAtfCwJJ9p53",
        "colab_type": "code",
        "colab": {
          "base_uri": "https://localhost:8080/",
          "height": 50
        },
        "outputId": "88bd4cd8-0143-4968-f67c-ab2bab1140c5"
      },
      "cell_type": "code",
      "source": [
        "print 'r2_score: '\n",
        "r2_score(y_test, predictions)"
      ],
      "execution_count": 167,
      "outputs": [
        {
          "output_type": "stream",
          "text": [
            "r2_score: \n"
          ],
          "name": "stdout"
        },
        {
          "output_type": "execute_result",
          "data": {
            "text/plain": [
              "0.9961004653939813"
            ]
          },
          "metadata": {
            "tags": []
          },
          "execution_count": 167
        }
      ]
    },
    {
      "metadata": {
        "id": "cuQcCRiO3R6z",
        "colab_type": "code",
        "colab": {
          "base_uri": "https://localhost:8080/",
          "height": 353
        },
        "outputId": "d3a8ec9b-2737-4a01-8813-dfd0ec3b015b"
      },
      "cell_type": "code",
      "source": [
        "compareT['yPredicted']-compareT['yTest']"
      ],
      "execution_count": 168,
      "outputs": [
        {
          "output_type": "execute_result",
          "data": {
            "text/plain": [
              "69      616\n",
              "7      -393\n",
              "83     -442\n",
              "62      845\n",
              "5       -73\n",
              "2      -580\n",
              "17     -452\n",
              "63       24\n",
              "23     2541\n",
              "51   -13947\n",
              "68     -218\n",
              "16     2073\n",
              "15     -485\n",
              "56      -80\n",
              "86     -376\n",
              "61     -314\n",
              "28       88\n",
              "36      247\n",
              "42     -364\n",
              "dtype: int64"
            ]
          },
          "metadata": {
            "tags": []
          },
          "execution_count": 168
        }
      ]
    },
    {
      "metadata": {
        "id": "5fUZ4Z9m3Ysy",
        "colab_type": "code",
        "colab": {
          "base_uri": "https://localhost:8080/",
          "height": 37
        },
        "outputId": "6b012b48-91b4-4da2-902b-2f9241423ff5"
      },
      "cell_type": "code",
      "source": [
        ""
      ],
      "execution_count": 168,
      "outputs": []
    },
    {
      "metadata": {
        "id": "ByzAMduw38iZ",
        "colab_type": "code",
        "colab": {
          "base_uri": "https://localhost:8080/",
          "height": 37
        },
        "outputId": "0e6670a7-680c-4007-8ebb-cdc40310b0b9"
      },
      "cell_type": "code",
      "source": [
        ""
      ],
      "execution_count": 168,
      "outputs": []
    }
  ]
}