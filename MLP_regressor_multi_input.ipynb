{
  "nbformat": 4,
  "nbformat_minor": 0,
  "metadata": {
    "colab": {
      "name": "MLP_regressor_multi_input.ipynb",
      "version": "0.3.2",
      "provenance": [],
      "collapsed_sections": [],
      "include_colab_link": true
    }
  },
  "cells": [
    {
      "cell_type": "markdown",
      "metadata": {
        "id": "view-in-github",
        "colab_type": "text"
      },
      "source": [
        "[View in Colaboratory](https://colab.research.google.com/github/iiwakuralain/TCC2/blob/master/MLP_regressor_multi_input.ipynb)"
      ]
    },
    {
      "metadata": {
        "id": "8YKkRBB65iaf",
        "colab_type": "code",
        "colab": {}
      },
      "cell_type": "code",
      "source": [
        "import pandas as pd\n",
        "from sklearn import datasets, linear_model\n",
        "from sklearn.model_selection import train_test_split\n",
        "from matplotlib import pyplot as plt\n",
        "from sklearn.metrics import r2_score\n",
        "from sklearn.metrics import mean_squared_error"
      ],
      "execution_count": 0,
      "outputs": []
    },
    {
      "metadata": {
        "id": "8rgYQI4iDiM0",
        "colab_type": "code",
        "colab": {
          "base_uri": "https://localhost:8080/",
          "height": 54
        },
        "outputId": "c3163f90-bbc5-4511-ddb5-ba1a3f441dc1"
      },
      "cell_type": "code",
      "source": [
        "!pip install -q xlrd\n",
        "!git clone https://github.com/iiwakuralain/TCC2"
      ],
      "execution_count": 3,
      "outputs": [
        {
          "output_type": "stream",
          "text": [
            "fatal: destination path 'TCC2' already exists and is not an empty directory.\r\n"
          ],
          "name": "stdout"
        }
      ]
    },
    {
      "metadata": {
        "id": "W2Z935poDyda",
        "colab_type": "code",
        "colab": {
          "base_uri": "https://localhost:8080/",
          "height": 54
        },
        "outputId": "e7ca0b82-1db8-4063-8aec-eebc160780fa"
      },
      "cell_type": "code",
      "source": [
        "cd TCC2"
      ],
      "execution_count": 4,
      "outputs": [
        {
          "output_type": "stream",
          "text": [
            "/content/TCC2\n"
          ],
          "name": "stdout"
        }
      ]
    },
    {
      "metadata": {
        "id": "J_gWebIHDy1R",
        "colab_type": "code",
        "colab": {
          "base_uri": "https://localhost:8080/",
          "height": 71
        },
        "outputId": "9dd831aa-0216-4bc8-c746-c4790f725ca5"
      },
      "cell_type": "code",
      "source": [
        "ls"
      ],
      "execution_count": 5,
      "outputs": [
        {
          "output_type": "stream",
          "text": [
            "db_ok.csv     MLP_regressor_multi_input.ipynb   \u001b[0m\u001b[01;34mTCC2\u001b[0m/\r\n",
            "linear.ipynb  MLP_regressor_single_input.ipynb\r\n"
          ],
          "name": "stdout"
        }
      ]
    },
    {
      "metadata": {
        "id": "TCrE2MuYED3Q",
        "colab_type": "code",
        "colab": {}
      },
      "cell_type": "code",
      "source": [
        "import pandas as pd\n",
        "df = pd.read_csv('db_ok.csv')"
      ],
      "execution_count": 0,
      "outputs": []
    },
    {
      "metadata": {
        "id": "wVWlq-8s5q7v",
        "colab_type": "code",
        "colab": {}
      },
      "cell_type": "code",
      "source": [
        "import os\n",
        "os.environ['TF_CPP_MIN_LOG_LEVEL'] = '3' "
      ],
      "execution_count": 0,
      "outputs": []
    },
    {
      "metadata": {
        "id": "VGnxdn7y7uyA",
        "colab_type": "code",
        "colab": {}
      },
      "cell_type": "code",
      "source": [
        "joinville = df.loc[(df['cidade'] == 1)]"
      ],
      "execution_count": 0,
      "outputs": []
    },
    {
      "metadata": {
        "id": "pIzqyWb_8BO3",
        "colab_type": "code",
        "colab": {
          "base_uri": "https://localhost:8080/",
          "height": 224
        },
        "outputId": "ba4ff78e-d865-4302-a6bc-7e5da0004d33"
      },
      "cell_type": "code",
      "source": [
        "joinville.head()"
      ],
      "execution_count": 9,
      "outputs": [
        {
          "output_type": "execute_result",
          "data": {
            "text/html": [
              "<div>\n",
              "<style scoped>\n",
              "    .dataframe tbody tr th:only-of-type {\n",
              "        vertical-align: middle;\n",
              "    }\n",
              "\n",
              "    .dataframe tbody tr th {\n",
              "        vertical-align: top;\n",
              "    }\n",
              "\n",
              "    .dataframe thead th {\n",
              "        text-align: right;\n",
              "    }\n",
              "</style>\n",
              "<table border=\"1\" class=\"dataframe\">\n",
              "  <thead>\n",
              "    <tr style=\"text-align: right;\">\n",
              "      <th></th>\n",
              "      <th>cidade</th>\n",
              "      <th>m2Aprox</th>\n",
              "      <th>4mm</th>\n",
              "      <th>3mm</th>\n",
              "      <th>$4mm</th>\n",
              "      <th>$3mm</th>\n",
              "    </tr>\n",
              "  </thead>\n",
              "  <tbody>\n",
              "    <tr>\n",
              "      <th>0</th>\n",
              "      <td>1</td>\n",
              "      <td>58.652928</td>\n",
              "      <td>18054.0</td>\n",
              "      <td>15045.00000</td>\n",
              "      <td>297.782896</td>\n",
              "      <td>256.508935</td>\n",
              "    </tr>\n",
              "    <tr>\n",
              "      <th>1</th>\n",
              "      <td>1</td>\n",
              "      <td>148.766748</td>\n",
              "      <td>45000.0</td>\n",
              "      <td>38160.00000</td>\n",
              "      <td>297.782896</td>\n",
              "      <td>256.508935</td>\n",
              "    </tr>\n",
              "    <tr>\n",
              "      <th>2</th>\n",
              "      <td>1</td>\n",
              "      <td>17.855129</td>\n",
              "      <td>5000.0</td>\n",
              "      <td>4580.00000</td>\n",
              "      <td>297.782896</td>\n",
              "      <td>256.508935</td>\n",
              "    </tr>\n",
              "    <tr>\n",
              "      <th>3</th>\n",
              "      <td>1</td>\n",
              "      <td>120.552592</td>\n",
              "      <td>35898.5</td>\n",
              "      <td>30922.81693</td>\n",
              "      <td>297.782896</td>\n",
              "      <td>256.508935</td>\n",
              "    </tr>\n",
              "    <tr>\n",
              "      <th>4</th>\n",
              "      <td>1</td>\n",
              "      <td>14.619374</td>\n",
              "      <td>4375.0</td>\n",
              "      <td>3750.00000</td>\n",
              "      <td>297.782896</td>\n",
              "      <td>256.508935</td>\n",
              "    </tr>\n",
              "  </tbody>\n",
              "</table>\n",
              "</div>"
            ],
            "text/plain": [
              "   cidade     m2Aprox      4mm          3mm        $4mm        $3mm\n",
              "0       1   58.652928  18054.0  15045.00000  297.782896  256.508935\n",
              "1       1  148.766748  45000.0  38160.00000  297.782896  256.508935\n",
              "2       1   17.855129   5000.0   4580.00000  297.782896  256.508935\n",
              "3       1  120.552592  35898.5  30922.81693  297.782896  256.508935\n",
              "4       1   14.619374   4375.0   3750.00000  297.782896  256.508935"
            ]
          },
          "metadata": {
            "tags": []
          },
          "execution_count": 9
        }
      ]
    },
    {
      "metadata": {
        "id": "u1_B8hLD8C9w",
        "colab_type": "code",
        "colab": {
          "base_uri": "https://localhost:8080/",
          "height": 54
        },
        "outputId": "f43a4c06-fe7c-4d8b-f440-002d9d318ceb"
      },
      "cell_type": "code",
      "source": [
        "joinville.shape"
      ],
      "execution_count": 10,
      "outputs": [
        {
          "output_type": "execute_result",
          "data": {
            "text/plain": [
              "(95, 6)"
            ]
          },
          "metadata": {
            "tags": []
          },
          "execution_count": 10
        }
      ]
    },
    {
      "metadata": {
        "id": "7kEWB47VDg8L",
        "colab_type": "code",
        "colab": {
          "base_uri": "https://localhost:8080/",
          "height": 241
        },
        "outputId": "d024d865-ba07-4df3-ecd6-76249546e28d"
      },
      "cell_type": "code",
      "source": [
        "mydf = joinville.astype('int64')\n",
        "print(mydf.info()) # Overview of dataset"
      ],
      "execution_count": 11,
      "outputs": [
        {
          "output_type": "stream",
          "text": [
            "<class 'pandas.core.frame.DataFrame'>\n",
            "Int64Index: 95 entries, 0 to 94\n",
            "Data columns (total 6 columns):\n",
            "cidade     95 non-null int64\n",
            "m2Aprox    95 non-null int64\n",
            "4mm        95 non-null int64\n",
            "3mm        95 non-null int64\n",
            "$4mm       95 non-null int64\n",
            "$3mm       95 non-null int64\n",
            "dtypes: int64(6)\n",
            "memory usage: 5.2 KB\n",
            "None\n"
          ],
          "name": "stdout"
        }
      ]
    },
    {
      "metadata": {
        "id": "pdW3apLUy_RX",
        "colab_type": "code",
        "colab": {
          "base_uri": "https://localhost:8080/",
          "height": 34
        },
        "outputId": "92136d30-3ed7-4479-dd28-ac3d6413b95b"
      },
      "cell_type": "code",
      "source": [
        "df_joinville = mydf.drop(['3mm'], axis=1)\n",
        "y = mydf['3mm']\n",
        "\n",
        "# create training and testing vars\n",
        "X_train, X_test, y_train, y_test = train_test_split(df_joinville, y, test_size=0.30)\n",
        "print(X_train.shape, y_train.shape)"
      ],
      "execution_count": 12,
      "outputs": [
        {
          "output_type": "stream",
          "text": [
            "((66, 5), (66,))\n"
          ],
          "name": "stdout"
        }
      ]
    },
    {
      "metadata": {
        "id": "zMSxriQ8zNnF",
        "colab_type": "code",
        "colab": {}
      },
      "cell_type": "code",
      "source": [
        "from sklearn.neural_network import MLPRegressor"
      ],
      "execution_count": 0,
      "outputs": []
    },
    {
      "metadata": {
        "id": "CYJ_ou33Etev",
        "colab_type": "code",
        "colab": {}
      },
      "cell_type": "code",
      "source": [
        "clf = MLPRegressor(solver='lbfgs',\n",
        "                    hidden_layer_sizes=(10), random_state=1)"
      ],
      "execution_count": 0,
      "outputs": []
    },
    {
      "metadata": {
        "id": "UbU0GXywFCKs",
        "colab_type": "code",
        "colab": {
          "base_uri": "https://localhost:8080/",
          "height": 136
        },
        "outputId": "ef054bb5-7b95-41bd-c2d4-2f1da6e4d037"
      },
      "cell_type": "code",
      "source": [
        "clf.fit(X_train, y_train)"
      ],
      "execution_count": 15,
      "outputs": [
        {
          "output_type": "execute_result",
          "data": {
            "text/plain": [
              "MLPRegressor(activation='relu', alpha=0.0001, batch_size='auto', beta_1=0.9,\n",
              "       beta_2=0.999, early_stopping=False, epsilon=1e-08,\n",
              "       hidden_layer_sizes=10, learning_rate='constant',\n",
              "       learning_rate_init=0.001, max_iter=200, momentum=0.9,\n",
              "       nesterovs_momentum=True, power_t=0.5, random_state=1, shuffle=True,\n",
              "       solver='lbfgs', tol=0.0001, validation_fraction=0.1, verbose=False,\n",
              "       warm_start=False)"
            ]
          },
          "metadata": {
            "tags": []
          },
          "execution_count": 15
        }
      ]
    },
    {
      "metadata": {
        "id": "95lTmFUxFn8x",
        "colab_type": "code",
        "colab": {}
      },
      "cell_type": "code",
      "source": [
        "predictions = clf.predict(X_test)"
      ],
      "execution_count": 0,
      "outputs": []
    },
    {
      "metadata": {
        "id": "JV5FScztTkZ1",
        "colab_type": "code",
        "colab": {
          "base_uri": "https://localhost:8080/",
          "height": 948
        },
        "outputId": "7b4cceec-4d32-4a7f-c215-06b756c612e8"
      },
      "cell_type": "code",
      "source": [
        "buildCompareT = {'cidade':X_test['cidade'],'m2Aprox': X_test['m2Aprox'], 'yTest': y_test, 'yPredicted':predictions.astype('int64')}\n",
        "compareT = pd.DataFrame(data=buildCompareT)\n",
        "compareT"
      ],
      "execution_count": 17,
      "outputs": [
        {
          "output_type": "execute_result",
          "data": {
            "text/html": [
              "<div>\n",
              "<style scoped>\n",
              "    .dataframe tbody tr th:only-of-type {\n",
              "        vertical-align: middle;\n",
              "    }\n",
              "\n",
              "    .dataframe tbody tr th {\n",
              "        vertical-align: top;\n",
              "    }\n",
              "\n",
              "    .dataframe thead th {\n",
              "        text-align: right;\n",
              "    }\n",
              "</style>\n",
              "<table border=\"1\" class=\"dataframe\">\n",
              "  <thead>\n",
              "    <tr style=\"text-align: right;\">\n",
              "      <th></th>\n",
              "      <th>cidade</th>\n",
              "      <th>m2Aprox</th>\n",
              "      <th>yPredicted</th>\n",
              "      <th>yTest</th>\n",
              "    </tr>\n",
              "  </thead>\n",
              "  <tbody>\n",
              "    <tr>\n",
              "      <th>3</th>\n",
              "      <td>1</td>\n",
              "      <td>120</td>\n",
              "      <td>32559</td>\n",
              "      <td>30922</td>\n",
              "    </tr>\n",
              "    <tr>\n",
              "      <th>0</th>\n",
              "      <td>1</td>\n",
              "      <td>58</td>\n",
              "      <td>17457</td>\n",
              "      <td>15045</td>\n",
              "    </tr>\n",
              "    <tr>\n",
              "      <th>92</th>\n",
              "      <td>1</td>\n",
              "      <td>624</td>\n",
              "      <td>159994</td>\n",
              "      <td>160061</td>\n",
              "    </tr>\n",
              "    <tr>\n",
              "      <th>36</th>\n",
              "      <td>1</td>\n",
              "      <td>224</td>\n",
              "      <td>54057</td>\n",
              "      <td>57663</td>\n",
              "    </tr>\n",
              "    <tr>\n",
              "      <th>34</th>\n",
              "      <td>1</td>\n",
              "      <td>143</td>\n",
              "      <td>37976</td>\n",
              "      <td>36880</td>\n",
              "    </tr>\n",
              "    <tr>\n",
              "      <th>5</th>\n",
              "      <td>1</td>\n",
              "      <td>141</td>\n",
              "      <td>37880</td>\n",
              "      <td>36366</td>\n",
              "    </tr>\n",
              "    <tr>\n",
              "      <th>47</th>\n",
              "      <td>1</td>\n",
              "      <td>55</td>\n",
              "      <td>16119</td>\n",
              "      <td>14300</td>\n",
              "    </tr>\n",
              "    <tr>\n",
              "      <th>79</th>\n",
              "      <td>1</td>\n",
              "      <td>20</td>\n",
              "      <td>7480</td>\n",
              "      <td>5300</td>\n",
              "    </tr>\n",
              "    <tr>\n",
              "      <th>61</th>\n",
              "      <td>1</td>\n",
              "      <td>18</td>\n",
              "      <td>6897</td>\n",
              "      <td>4575</td>\n",
              "    </tr>\n",
              "    <tr>\n",
              "      <th>62</th>\n",
              "      <td>1</td>\n",
              "      <td>122</td>\n",
              "      <td>32917</td>\n",
              "      <td>30500</td>\n",
              "    </tr>\n",
              "    <tr>\n",
              "      <th>64</th>\n",
              "      <td>1</td>\n",
              "      <td>30</td>\n",
              "      <td>9519</td>\n",
              "      <td>7780</td>\n",
              "    </tr>\n",
              "    <tr>\n",
              "      <th>27</th>\n",
              "      <td>1</td>\n",
              "      <td>224</td>\n",
              "      <td>59095</td>\n",
              "      <td>57663</td>\n",
              "    </tr>\n",
              "    <tr>\n",
              "      <th>41</th>\n",
              "      <td>1</td>\n",
              "      <td>280</td>\n",
              "      <td>72603</td>\n",
              "      <td>78400</td>\n",
              "    </tr>\n",
              "    <tr>\n",
              "      <th>50</th>\n",
              "      <td>1</td>\n",
              "      <td>123</td>\n",
              "      <td>24339</td>\n",
              "      <td>20625</td>\n",
              "    </tr>\n",
              "    <tr>\n",
              "      <th>22</th>\n",
              "      <td>1</td>\n",
              "      <td>202</td>\n",
              "      <td>45904</td>\n",
              "      <td>42930</td>\n",
              "    </tr>\n",
              "    <tr>\n",
              "      <th>81</th>\n",
              "      <td>1</td>\n",
              "      <td>6</td>\n",
              "      <td>3970</td>\n",
              "      <td>1714</td>\n",
              "    </tr>\n",
              "    <tr>\n",
              "      <th>63</th>\n",
              "      <td>1</td>\n",
              "      <td>115</td>\n",
              "      <td>31372</td>\n",
              "      <td>29498</td>\n",
              "    </tr>\n",
              "    <tr>\n",
              "      <th>38</th>\n",
              "      <td>1</td>\n",
              "      <td>1677</td>\n",
              "      <td>426195</td>\n",
              "      <td>419375</td>\n",
              "    </tr>\n",
              "    <tr>\n",
              "      <th>23</th>\n",
              "      <td>1</td>\n",
              "      <td>792</td>\n",
              "      <td>184813</td>\n",
              "      <td>203308</td>\n",
              "    </tr>\n",
              "    <tr>\n",
              "      <th>42</th>\n",
              "      <td>1</td>\n",
              "      <td>80</td>\n",
              "      <td>22613</td>\n",
              "      <td>20771</td>\n",
              "    </tr>\n",
              "    <tr>\n",
              "      <th>33</th>\n",
              "      <td>1</td>\n",
              "      <td>32</td>\n",
              "      <td>10499</td>\n",
              "      <td>8255</td>\n",
              "    </tr>\n",
              "    <tr>\n",
              "      <th>54</th>\n",
              "      <td>1</td>\n",
              "      <td>3</td>\n",
              "      <td>3118</td>\n",
              "      <td>1026</td>\n",
              "    </tr>\n",
              "    <tr>\n",
              "      <th>78</th>\n",
              "      <td>1</td>\n",
              "      <td>51</td>\n",
              "      <td>15304</td>\n",
              "      <td>13300</td>\n",
              "    </tr>\n",
              "    <tr>\n",
              "      <th>4</th>\n",
              "      <td>1</td>\n",
              "      <td>14</td>\n",
              "      <td>5981</td>\n",
              "      <td>3750</td>\n",
              "    </tr>\n",
              "    <tr>\n",
              "      <th>19</th>\n",
              "      <td>1</td>\n",
              "      <td>105</td>\n",
              "      <td>35498</td>\n",
              "      <td>30253</td>\n",
              "    </tr>\n",
              "    <tr>\n",
              "      <th>39</th>\n",
              "      <td>1</td>\n",
              "      <td>87</td>\n",
              "      <td>24969</td>\n",
              "      <td>22500</td>\n",
              "    </tr>\n",
              "    <tr>\n",
              "      <th>11</th>\n",
              "      <td>1</td>\n",
              "      <td>691</td>\n",
              "      <td>171864</td>\n",
              "      <td>177368</td>\n",
              "    </tr>\n",
              "    <tr>\n",
              "      <th>21</th>\n",
              "      <td>1</td>\n",
              "      <td>181</td>\n",
              "      <td>41289</td>\n",
              "      <td>38372</td>\n",
              "    </tr>\n",
              "    <tr>\n",
              "      <th>75</th>\n",
              "      <td>1</td>\n",
              "      <td>30</td>\n",
              "      <td>9978</td>\n",
              "      <td>7851</td>\n",
              "    </tr>\n",
              "  </tbody>\n",
              "</table>\n",
              "</div>"
            ],
            "text/plain": [
              "    cidade  m2Aprox  yPredicted   yTest\n",
              "3        1      120       32559   30922\n",
              "0        1       58       17457   15045\n",
              "92       1      624      159994  160061\n",
              "36       1      224       54057   57663\n",
              "34       1      143       37976   36880\n",
              "5        1      141       37880   36366\n",
              "47       1       55       16119   14300\n",
              "79       1       20        7480    5300\n",
              "61       1       18        6897    4575\n",
              "62       1      122       32917   30500\n",
              "64       1       30        9519    7780\n",
              "27       1      224       59095   57663\n",
              "41       1      280       72603   78400\n",
              "50       1      123       24339   20625\n",
              "22       1      202       45904   42930\n",
              "81       1        6        3970    1714\n",
              "63       1      115       31372   29498\n",
              "38       1     1677      426195  419375\n",
              "23       1      792      184813  203308\n",
              "42       1       80       22613   20771\n",
              "33       1       32       10499    8255\n",
              "54       1        3        3118    1026\n",
              "78       1       51       15304   13300\n",
              "4        1       14        5981    3750\n",
              "19       1      105       35498   30253\n",
              "39       1       87       24969   22500\n",
              "11       1      691      171864  177368\n",
              "21       1      181       41289   38372\n",
              "75       1       30        9978    7851"
            ]
          },
          "metadata": {
            "tags": []
          },
          "execution_count": 17
        }
      ]
    },
    {
      "metadata": {
        "id": "I4VtGKzQWa3m",
        "colab_type": "code",
        "colab": {
          "base_uri": "https://localhost:8080/",
          "height": 378
        },
        "outputId": "b78757ca-f696-41e8-c11b-1d6da349c68c"
      },
      "cell_type": "code",
      "source": [
        "plt.scatter(y_test, predictions)\n",
        "plt.xlabel('True Values')\n",
        "plt.ylabel('Predictions')"
      ],
      "execution_count": 18,
      "outputs": [
        {
          "output_type": "execute_result",
          "data": {
            "text/plain": [
              "Text(0,0.5,u'Predictions')"
            ]
          },
          "metadata": {
            "tags": []
          },
          "execution_count": 18
        },
        {
          "output_type": "display_data",
          "data": {
            "image/png": "[encoded data removed]",
            "text/plain": [
              "<matplotlib.figure.Figure at 0x7f46a1e5df90>"
            ]
          },
          "metadata": {
            "tags": []
          }
        }
      ]
    },
    {
      "metadata": {
        "id": "9_1xHtZlaohh",
        "colab_type": "code",
        "colab": {
          "base_uri": "https://localhost:8080/",
          "height": 34
        },
        "outputId": "3821cdb1-2ce2-427e-c599-67cc34ceb59c"
      },
      "cell_type": "code",
      "source": [
        "r2_score(y_test, predictions)"
      ],
      "execution_count": 19,
      "outputs": [
        {
          "output_type": "execute_result",
          "data": {
            "text/plain": [
              "0.9971797401701862"
            ]
          },
          "metadata": {
            "tags": []
          },
          "execution_count": 19
        }
      ]
    },
    {
      "metadata": {
        "id": "REdPRYWJcSeR",
        "colab_type": "code",
        "colab": {
          "base_uri": "https://localhost:8080/",
          "height": 34
        },
        "outputId": "2a942502-5751-40de-8301-9477a617f720"
      },
      "cell_type": "code",
      "source": [
        "mean_squared_error(y_test, predictions)"
      ],
      "execution_count": 20,
      "outputs": [
        {
          "output_type": "execute_result",
          "data": {
            "text/plain": [
              "20743251.18172138"
            ]
          },
          "metadata": {
            "tags": []
          },
          "execution_count": 20
        }
      ]
    },
    {
      "metadata": {
        "id": "RFR2frc-27Fp",
        "colab_type": "code",
        "colab": {
          "base_uri": "https://localhost:8080/",
          "height": 34
        },
        "outputId": "d1b8292e-7a9f-4c90-968f-f92b675eabd7"
      },
      "cell_type": "code",
      "source": [
        "from sklearn.metrics import mean_absolute_error\n",
        "mean_absolute_error(y_test, predictions)"
      ],
      "execution_count": 21,
      "outputs": [
        {
          "output_type": "execute_result",
          "data": {
            "text/plain": [
              "3202.0186950686107"
            ]
          },
          "metadata": {
            "tags": []
          },
          "execution_count": 21
        }
      ]
    },
    {
      "metadata": {
        "id": "KPrpYUIZ6qEl",
        "colab_type": "code",
        "colab": {
          "base_uri": "https://localhost:8080/",
          "height": 51
        },
        "outputId": "4515767d-89ba-4c38-acf4-c2bd48c678f0"
      },
      "cell_type": "code",
      "source": [
        "\"\"\"\n",
        "Regression metrics\n",
        "See the Regression metrics section of the user guide for further details.\n",
        "\n",
        "metrics.explained_variance_score(y_true, y_pred)\tExplained variance regression score function\n",
        "metrics.mean_absolute_error(y_true, y_pred)\tMean absolute error regression loss\n",
        "metrics.mean_squared_error(y_true, y_pred[, …])\tMean squared error regression loss\n",
        "metrics.mean_squared_log_error(y_true, y_pred)\tMean squared logarithmic error regression loss\n",
        "metrics.median_absolute_error(y_true, y_pred)\tMedian absolute error regression loss\n",
        "metrics.r2_score(y_true, y_pred[, …])\tR^2 (coefficient of determination) regression score function.\n",
        "\"\"\"\n",
        "from sklearn.metrics import explained_variance_score\n",
        "from sklearn.metrics import mean_absolute_error\n",
        "from sklearn.metrics import mean_squared_error\n",
        "from sklearn.metrics import mean_squared_log_error\n",
        "from sklearn.metrics import median_absolute_error\n",
        "from sklearn.metrics import r2_score\n",
        "\n",
        "print 'explained_variance_score: '\n",
        "explained_variance_score(y_test, predictions)\n"
      ],
      "execution_count": 22,
      "outputs": [
        {
          "output_type": "stream",
          "text": [
            "explained_variance_score: \n"
          ],
          "name": "stdout"
        },
        {
          "output_type": "execute_result",
          "data": {
            "text/plain": [
              "0.9972884165524276"
            ]
          },
          "metadata": {
            "tags": []
          },
          "execution_count": 22
        }
      ]
    },
    {
      "metadata": {
        "id": "ciCqblSW8Yr6",
        "colab_type": "code",
        "colab": {
          "base_uri": "https://localhost:8080/",
          "height": 51
        },
        "outputId": "43329037-ee06-4659-9720-2861d1da1a54"
      },
      "cell_type": "code",
      "source": [
        "\n",
        "print 'mean_absolute_error: '\n",
        "mean_absolute_error(y_test, predictions)\n",
        "\n"
      ],
      "execution_count": 23,
      "outputs": [
        {
          "output_type": "stream",
          "text": [
            "mean_absolute_error: \n"
          ],
          "name": "stdout"
        },
        {
          "output_type": "execute_result",
          "data": {
            "text/plain": [
              "3202.0186950686107"
            ]
          },
          "metadata": {
            "tags": []
          },
          "execution_count": 23
        }
      ]
    },
    {
      "metadata": {
        "id": "sMkdUWqQ9nyo",
        "colab_type": "code",
        "colab": {
          "base_uri": "https://localhost:8080/",
          "height": 51
        },
        "outputId": "718aaa24-6c97-416a-cdeb-ad8e2e852380"
      },
      "cell_type": "code",
      "source": [
        "\n",
        "print 'mean_squared_error: '\n",
        "mean_squared_error(y_test, predictions)\n",
        "\n"
      ],
      "execution_count": 24,
      "outputs": [
        {
          "output_type": "stream",
          "text": [
            "mean_squared_error: \n"
          ],
          "name": "stdout"
        },
        {
          "output_type": "execute_result",
          "data": {
            "text/plain": [
              "20743251.18172138"
            ]
          },
          "metadata": {
            "tags": []
          },
          "execution_count": 24
        }
      ]
    },
    {
      "metadata": {
        "id": "a2dmiCie9oJD",
        "colab_type": "code",
        "colab": {
          "base_uri": "https://localhost:8080/",
          "height": 51
        },
        "outputId": "70d2af17-7766-4b65-cfb8-ec79ae952d18"
      },
      "cell_type": "code",
      "source": [
        "print 'median_absolute_error: '\n",
        "median_absolute_error(y_test, predictions)\n",
        "\n"
      ],
      "execution_count": 25,
      "outputs": [
        {
          "output_type": "stream",
          "text": [
            "median_absolute_error: \n"
          ],
          "name": "stdout"
        },
        {
          "output_type": "execute_result",
          "data": {
            "text/plain": [
              "2244.795054168095"
            ]
          },
          "metadata": {
            "tags": []
          },
          "execution_count": 25
        }
      ]
    },
    {
      "metadata": {
        "id": "GAtfCwJJ9p53",
        "colab_type": "code",
        "colab": {
          "base_uri": "https://localhost:8080/",
          "height": 51
        },
        "outputId": "0798b00d-6cb8-40a5-f918-1bf40326007a"
      },
      "cell_type": "code",
      "source": [
        "print 'r2_score: '\n",
        "r2_score(y_test, predictions)"
      ],
      "execution_count": 26,
      "outputs": [
        {
          "output_type": "stream",
          "text": [
            "r2_score: \n"
          ],
          "name": "stdout"
        },
        {
          "output_type": "execute_result",
          "data": {
            "text/plain": [
              "0.9971797401701862"
            ]
          },
          "metadata": {
            "tags": []
          },
          "execution_count": 26
        }
      ]
    },
    {
      "metadata": {
        "id": "sNsxDgTpJn5e",
        "colab_type": "code",
        "colab": {
          "base_uri": "https://localhost:8080/",
          "height": 527
        },
        "outputId": "dbb54035-268e-43ac-c249-59b080b77314"
      },
      "cell_type": "code",
      "source": [
        "compareT['yPredicted']-compareT['yTest']"
      ],
      "execution_count": 27,
      "outputs": [
        {
          "output_type": "execute_result",
          "data": {
            "text/plain": [
              "3      1637\n",
              "0      2412\n",
              "92      -67\n",
              "36    -3606\n",
              "34     1096\n",
              "5      1514\n",
              "47     1819\n",
              "79     2180\n",
              "61     2322\n",
              "62     2417\n",
              "64     1739\n",
              "27     1432\n",
              "41    -5797\n",
              "50     3714\n",
              "22     2974\n",
              "81     2256\n",
              "63     1874\n",
              "38     6820\n",
              "23   -18495\n",
              "42     1842\n",
              "33     2244\n",
              "54     2092\n",
              "78     2004\n",
              "4      2231\n",
              "19     5245\n",
              "39     2469\n",
              "11    -5504\n",
              "21     2917\n",
              "75     2127\n",
              "dtype: int64"
            ]
          },
          "metadata": {
            "tags": []
          },
          "execution_count": 27
        }
      ]
    },
    {
      "metadata": {
        "id": "eFSgVAl3Jo0k",
        "colab_type": "code",
        "colab": {}
      },
      "cell_type": "code",
      "source": [
        ""
      ],
      "execution_count": 0,
      "outputs": []
    }
  ]
}