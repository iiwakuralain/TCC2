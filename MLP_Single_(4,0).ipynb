{
  "nbformat": 4,
  "nbformat_minor": 0,
  "metadata": {
    "colab": {
      "name": "MLP_Single_(4,0)",
      "version": "0.3.2",
      "provenance": [],
      "include_colab_link": true
    }
  },
  "cells": [
    {
      "cell_type": "markdown",
      "metadata": {
        "id": "view-in-github",
        "colab_type": "text"
      },
      "source": [
        "[View in Colaboratory](https://colab.research.google.com/github/iiwakuralain/TCC2/blob/master/MLP_Single_(4,0).ipynb)"
      ]
    },
    {
      "metadata": {
        "id": "9v0e8yGWxIQu",
        "colab_type": "code",
        "colab": {
          "base_uri": "https://localhost:8080/",
          "height": 202
        },
        "outputId": "32f43b91-605f-434e-bb72-e56aef101796"
      },
      "cell_type": "code",
      "source": [
        "import pandas as pd\n",
        "import numpy as np # para álgebra linear\n",
        "from sklearn import datasets, linear_model\n",
        "from sklearn.model_selection import train_test_split\n",
        "from matplotlib import pyplot as plt\n",
        "from sklearn.metrics import r2_score\n",
        "from sklearn.metrics import mean_squared_error\n",
        "\n",
        "#Load Dataset\n",
        "df = pd.read_csv('db.csv')\n",
        "\n",
        "#Busca apenas a cidade joinville (no caso é a cidade n.1) \n",
        "joinville = df.loc[(df['cidade']==1)].astype('int64')\n",
        "joinville.info()"
      ],
      "execution_count": 35,
      "outputs": [
        {
          "output_type": "stream",
          "text": [
            "<class 'pandas.core.frame.DataFrame'>\n",
            "Int64Index: 95 entries, 0 to 94\n",
            "Data columns (total 6 columns):\n",
            "cidade     95 non-null int64\n",
            "m2Aprox    95 non-null int64\n",
            "4mm        95 non-null int64\n",
            "3mm        95 non-null int64\n",
            "$4mm       95 non-null int64\n",
            "$3mm       95 non-null int64\n",
            "dtypes: int64(6)\n",
            "memory usage: 5.2 KB\n"
          ],
          "name": "stdout"
        }
      ]
    },
    {
      "metadata": {
        "id": "Qt5gJtJ3xJJP",
        "colab_type": "code",
        "colab": {}
      },
      "cell_type": "code",
      "source": [
        "#define os inputs (uso apenas a coluna m2Aprox, o restante dropa)\n",
        "X = joinville.drop(['3mm','4mm','cidade','$3mm','$4mm'], axis = 1)\n",
        "#target de predição, preço final 3mm\n",
        "y = joinville['3mm']"
      ],
      "execution_count": 0,
      "outputs": []
    },
    {
      "metadata": {
        "id": "MqLb9GFLxNLm",
        "colab_type": "code",
        "colab": {}
      },
      "cell_type": "code",
      "source": [
        "#Divido em trino e teste.\n",
        "X_train, X_test, y_train, y_test = train_test_split(X, y, test_size=0.20)"
      ],
      "execution_count": 0,
      "outputs": []
    },
    {
      "metadata": {
        "id": "_1-U4K5AxPdl",
        "colab_type": "code",
        "colab": {}
      },
      "cell_type": "code",
      "source": [
        "\"\"\"\n",
        "Funções de ativação.\n",
        "https://matheusfacure.github.io/2017/07/12/activ-func/#fun-act\n",
        "\"\"\"\n",
        "\n",
        "#importa MPL regressor\n",
        "from sklearn.neural_network import MLPRegressor\n",
        "\n",
        "#Defino nnReg como meu regressor\n",
        "#Defino a parametrização\n",
        "nnReg = MLPRegressor(activation='relu',\n",
        "                     solver='lbfgs',\n",
        "                     hidden_layer_sizes=(4,), \n",
        "                     random_state=None)"
      ],
      "execution_count": 0,
      "outputs": []
    },
    {
      "metadata": {
        "id": "m2U5SpKFxSrB",
        "colab_type": "code",
        "colab": {
          "base_uri": "https://localhost:8080/",
          "height": 134
        },
        "outputId": "67e25c4d-81f1-4bdb-8648-6aa68322471a"
      },
      "cell_type": "code",
      "source": [
        "#Treino com a base de treinos\n",
        "nnReg.fit(X_train,y_train)"
      ],
      "execution_count": 39,
      "outputs": [
        {
          "output_type": "execute_result",
          "data": {
            "text/plain": [
              "MLPRegressor(activation='relu', alpha=0.0001, batch_size='auto', beta_1=0.9,\n",
              "       beta_2=0.999, early_stopping=False, epsilon=1e-08,\n",
              "       hidden_layer_sizes=(4,), learning_rate='constant',\n",
              "       learning_rate_init=0.001, max_iter=200, momentum=0.9,\n",
              "       nesterovs_momentum=True, power_t=0.5, random_state=None,\n",
              "       shuffle=True, solver='lbfgs', tol=0.0001, validation_fraction=0.1,\n",
              "       verbose=False, warm_start=False)"
            ]
          },
          "metadata": {
            "tags": []
          },
          "execution_count": 39
        }
      ]
    },
    {
      "metadata": {
        "id": "xzEI8P9LxVJ0",
        "colab_type": "code",
        "colab": {}
      },
      "cell_type": "code",
      "source": [
        "#realiza predição\n",
        "pred = nnReg.predict(X_test)"
      ],
      "execution_count": 0,
      "outputs": []
    },
    {
      "metadata": {
        "id": "S4RCequyxWn5",
        "colab_type": "code",
        "colab": {
          "base_uri": "https://localhost:8080/",
          "height": 34
        },
        "outputId": "c3db334e-0978-4192-8da6-e68cd021d9ab"
      },
      "cell_type": "code",
      "source": [
        "'''\n",
        "Erro Absoluto Médio (MAE): Mede a magnitude média dos erros em um conjunto de \n",
        "previsões, sem considerar sua direção. É a média sobre a amostra de teste das \n",
        "diferenças absolutas entre previsão e observação real, onde todas as diferenças \n",
        "individuais têm peso igual.\n",
        "\n",
        "Se o valor absoluto não for obtido (os sinais dos erros não são removidos), \n",
        "o erro médio torna-se o erro de polarização média (MBE) e é geralmente \n",
        "destinado a medir o viés de modelo médio. O MBE pode transmitir informações \n",
        "úteis, mas deve ser interpretado com cautela porque os erros positivos e \n",
        "negativos serão cancelados.\n",
        "\n",
        "https://medium.com/human-in-a-machine-world/mae-and-rmse-which-metric-is-better-e60ac3bde13d\n",
        "'''\n",
        "\n",
        "from sklearn.metrics import mean_absolute_error\n",
        "mean_absolute_error(y_test, pred)"
      ],
      "execution_count": 41,
      "outputs": [
        {
          "output_type": "execute_result",
          "data": {
            "text/plain": [
              "2304.1583504755995"
            ]
          },
          "metadata": {
            "tags": []
          },
          "execution_count": 41
        }
      ]
    },
    {
      "metadata": {
        "id": "qBoikdZzxX4Z",
        "colab_type": "code",
        "colab": {
          "base_uri": "https://localhost:8080/",
          "height": 34
        },
        "outputId": "5e097d38-0391-4fe7-e320-ecb121d0c56a"
      },
      "cell_type": "code",
      "source": [
        "\"\"\"\n",
        "Robusto contra outliners.\n",
        "Não suporta multi-output.\n",
        "\n",
        "A perda é calculada tomando a mediana de todas as diferenças absolutas\n",
        "entre o alvo e a predição.\n",
        "\"\"\"\n",
        "from sklearn.metrics import median_absolute_error\n",
        "median_absolute_error(y_test,pred)"
      ],
      "execution_count": 42,
      "outputs": [
        {
          "output_type": "execute_result",
          "data": {
            "text/plain": [
              "425.95587994233574"
            ]
          },
          "metadata": {
            "tags": []
          },
          "execution_count": 42
        }
      ]
    },
    {
      "metadata": {
        "id": "zl-b7aBlxaA1",
        "colab_type": "code",
        "colab": {
          "base_uri": "https://localhost:8080/",
          "height": 50
        },
        "outputId": "54d13c89-1313-46a9-eb43-0bc9dfa04129"
      },
      "cell_type": "code",
      "source": [
        "print'Média do erro absoluto: ', np.absolute((pred - y_test)).mean()\n",
        "print'Média do erro relativo: ', np.absolute(((pred - y_test) / y_test)).mean()"
      ],
      "execution_count": 43,
      "outputs": [
        {
          "output_type": "stream",
          "text": [
            "Média do erro absoluto:  2304.1583504755995\n",
            "Média do erro relativo:  0.08998155378716803\n"
          ],
          "name": "stdout"
        }
      ]
    },
    {
      "metadata": {
        "id": "U1mgwqCfxb_h",
        "colab_type": "code",
        "colab": {
          "base_uri": "https://localhost:8080/",
          "height": 320
        },
        "outputId": "f9e3d7cc-5ece-4054-f4e8-8924512a51c8"
      },
      "cell_type": "code",
      "source": [
        "import seaborn as sns\n",
        "sns.set()\n",
        "\n",
        "# Set context to `\"paper\"`\n",
        "sns.set_context(\"paper\", font_scale=1.5, rc={\"font.size\":8,\"axes.labelsize\":30})\n",
        "    \n",
        "sns.regplot(x=X_test['m2Aprox'], y=pred,color='red');\n",
        "sns.regplot(x=X_test['m2Aprox'], y=y_test, color='black');"
      ],
      "execution_count": 44,
      "outputs": [
        {
          "output_type": "display_data",
          "data": {
            "image/png": "[encoded data removed]",
            "text/plain": [
              "<matplotlib.figure.Figure at 0x7fe93e721790>"
            ]
          },
          "metadata": {
            "tags": []
          }
        }
      ]
    },
    {
      "metadata": {
        "id": "n82ZJQOwxf65",
        "colab_type": "code",
        "colab": {
          "base_uri": "https://localhost:8080/",
          "height": 34
        },
        "outputId": "4d315d8e-a6d7-4a65-af6c-d48d202be3a0"
      },
      "cell_type": "code",
      "source": [
        "r2_score(y_test,pred)"
      ],
      "execution_count": 45,
      "outputs": [
        {
          "output_type": "execute_result",
          "data": {
            "text/plain": [
              "0.9968211847412916"
            ]
          },
          "metadata": {
            "tags": []
          },
          "execution_count": 45
        }
      ]
    },
    {
      "metadata": {
        "id": "VqAIQx-JxiRp",
        "colab_type": "code",
        "colab": {}
      },
      "cell_type": "code",
      "source": [
        ""
      ],
      "execution_count": 0,
      "outputs": []
    }
  ]
}